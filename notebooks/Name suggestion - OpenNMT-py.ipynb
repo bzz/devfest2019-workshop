{
 "cells": [
  {
   "cell_type": "code",
   "execution_count": null,
   "metadata": {},
   "outputs": [],
   "source": [
    "!pip3 install opennmt-py"
   ]
  },
  {
   "cell_type": "markdown",
   "metadata": {
    "heading_collapsed": true
   },
   "source": [
    "# Function name suggestion\n",
    "\n",
    " - get the data\n",
    " - explore\n",
    " - preprocess\n",
    " - train the model\n",
    " - predict\n",
    " - evaluate the mode"
   ]
  },
  {
   "cell_type": "markdown",
   "metadata": {},
   "source": [
    "# Data\n",
    "\n",
    "Data collection & preprocessing pipeline"
   ]
  },
  {
   "cell_type": "markdown",
   "metadata": {
    "heading_collapsed": true
   },
   "source": [
    "## 1. Get the data\n",
    "\n",
    " 1. gitbase+bblfsh `file -> binary UAST [{node: FunctionGroup}, {}, ...]` Q:nested functions?\n",
    " 2. CodeSearchNet: 3.5m `{func_name: \"\", code_tokens: [\"def\", ...]}`"
   ]
  },
  {
   "cell_type": "markdown",
   "metadata": {
    "hidden": true
   },
   "source": [
    "### Create a new dataset (gitbase + bblfsh)"
   ]
  },
  {
   "cell_type": "markdown",
   "metadata": {
    "hidden": true
   },
   "source": [
    "```\n",
    ".git packfiles -> gitbase -> protobuf [UAST1, UAST2, ...]\n",
    "                     |\n",
    "                   bblfsh\n",
    "```\n",
    "\n",
    "TODO: visualize the pipeline"
   ]
  },
  {
   "cell_type": "markdown",
   "metadata": {
    "heading_collapsed": true,
    "hidden": true
   },
   "source": [
    "#### What is Gitbase?"
   ]
  },
  {
   "cell_type": "markdown",
   "metadata": {
    "hidden": true
   },
   "source": [
    "[github.com/src-d/gitbase](https://github.com/src-d/gitbase)\n",
    "\n",
    "* Gitbase is **SQL** interface to git repositories\n",
    "* refrasing: it allows to **query** and **retrieve** required information from **code**\n",
    "\n",
    "#### In our case it will help with:\n",
    "* language classification of files\n",
    "* selecting files from specific programming language\n",
    "* filtering out vendor & binary files\n",
    "* parsing files - we don't work with code as raw text - we extract Unified Abstract Syntax Trees (**UAST**)\n",
    "* extracting function-related parts of **UAST**\n",
    "\n"
   ]
  },
  {
   "cell_type": "markdown",
   "metadata": {
    "heading_collapsed": true,
    "hidden": true
   },
   "source": [
    "#### What is Bblfsh?"
   ]
  },
  {
   "cell_type": "markdown",
   "metadata": {
    "hidden": true
   },
   "source": [
    "http://doc.bblf.sh\n",
    "    \n",
    "* it is contanerized parser infrastructure for multiple languages\n",
    "* it is responsible for extracting Unified Abstract Syntax Trees (**UAST**)\n",
    "* interactive playground http://play.bblf.sh\n",
    "\n",
    "TOOD: add logo + an image"
   ]
  },
  {
   "cell_type": "code",
   "execution_count": null,
   "metadata": {
    "hidden": true
   },
   "outputs": [],
   "source": [
    "!ls -la ../repos/git-data\n",
    "\n",
    "for row in query_gitbase(\"select * from repositories;\"):\n",
    "    print(row)\n",
    "    \n",
    "# TODO: save on disk"
   ]
  },
  {
   "cell_type": "markdown",
   "metadata": {
    "heading_collapsed": true,
    "hidden": true
   },
   "source": [
    "### Use existing dataset (CodeSearchNet)\n",
    "\n"
   ]
  },
  {
   "cell_type": "markdown",
   "metadata": {
    "hidden": true
   },
   "source": [
    "A dataset from Github released in 2019, that contains parsed&preprocessed data about functions for multiple languages."
   ]
  },
  {
   "cell_type": "markdown",
   "metadata": {
    "heading_collapsed": true
   },
   "source": [
    "## 2. Explore the data\n",
    "\n",
    "Fit in RAM on signe machine: `(projet, sha, file, language, func_name, code)`\n",
    " * total samples, languages\n",
    " * samples/lang\n",
    " * seq_len/lang"
   ]
  },
  {
   "cell_type": "code",
   "execution_count": null,
   "metadata": {
    "hidden": true
   },
   "outputs": [],
   "source": [
    "# DataFrame"
   ]
  },
  {
   "cell_type": "markdown",
   "metadata": {
    "heading_collapsed": true
   },
   "source": [
    "## 3. Preprocess the data\n",
    "Covert to numbers, as input to the model.\n",
    "\n",
    " - save on disk in intermediate format\n",
    " - generate the vocabulary (token/sub-token/char)\n",
    " - encode using the vocabulary\n",
    "\n"
   ]
  },
  {
   "cell_type": "code",
   "execution_count": null,
   "metadata": {
    "hidden": true
   },
   "outputs": [],
   "source": [
    "# save in plain text\n",
    "# generate\n",
    "\n",
    "! onmt_preprocess \\\n",
    "    -train_src data/src-train.txt \\\n",
    "    -train_tgt data/tgt-train.txt \\\n",
    "    -valid_src data/src-val.txt \\\n",
    "    -valid_tgt data/tgt-val.txt\n",
    "    -save_data data/demo"
   ]
  },
  {
   "cell_type": "code",
   "execution_count": null,
   "metadata": {
    "hidden": true
   },
   "outputs": [],
   "source": [
    "# check the results\n",
    "!head -n 3 data/src-train.txt"
   ]
  },
  {
   "cell_type": "markdown",
   "metadata": {
    "heading_collapsed": true
   },
   "source": [
    "# Model\n",
    "\n",
    "seq2seq model from NMT"
   ]
  },
  {
   "cell_type": "markdown",
   "metadata": {
    "heading_collapsed": true,
    "hidden": true
   },
   "source": [
    "## Train\n",
    "\n",
    "<img src=\"img/simple-attn-model.png\" style=\"max-width:400px;float:left;\"></img>\n",
    "\n"
   ]
  },
  {
   "cell_type": "code",
   "execution_count": null,
   "metadata": {
    "hidden": true
   },
   "outputs": [],
   "source": [
    "# 2-layer LSTM with 500 hidden units\n",
    "onmt_train -data data/demo -save_model demo-model\n",
    "\n",
    "# Attention? Transformer?\n",
    "# to show the advantage of using openNMT"
   ]
  },
  {
   "cell_type": "code",
   "execution_count": null,
   "metadata": {
    "hidden": true
   },
   "outputs": [],
   "source": [
    "!ls -la demo-model*"
   ]
  },
  {
   "cell_type": "markdown",
   "metadata": {
    "heading_collapsed": true,
    "hidden": true
   },
   "source": [
    "## Predict"
   ]
  },
  {
   "cell_type": "code",
   "execution_count": null,
   "metadata": {
    "hidden": true
   },
   "outputs": [],
   "source": [
    "!onmt_translate -model demo-model_XYZ.pt \\\n",
    "    -src data/src-test.txt \\\n",
    "    -output pred.txt -replace_unk -verbose"
   ]
  },
  {
   "cell_type": "markdown",
   "metadata": {
    "heading_collapsed": true,
    "hidden": true
   },
   "source": [
    "## Evaluate"
   ]
  },
  {
   "cell_type": "code",
   "execution_count": null,
   "metadata": {
    "hidden": true
   },
   "outputs": [],
   "source": [
    "!perl tools/multi-bleu.perl data/src-test.txt < test.pred"
   ]
  },
  {
   "cell_type": "code",
   "execution_count": null,
   "metadata": {
    "hidden": true
   },
   "outputs": [],
   "source": []
  },
  {
   "cell_type": "code",
   "execution_count": null,
   "metadata": {
    "hidden": true
   },
   "outputs": [],
   "source": [
    "# Learnings:\n",
    "# - notebook: super-short (preprocess/train/infernece, separate \"how to build a dataset\") or super-long-and-structured?\n",
    "# - paths vars should be short (e.g Path.MODEL vs env.path(Files.MODEL_FILE))\n",
    "# - "
   ]
  }
 ],
 "metadata": {
  "kernelspec": {
   "display_name": "Python 3",
   "language": "python",
   "name": "python3"
  },
  "language_info": {
   "codemirror_mode": {
    "name": "ipython",
    "version": 3
   },
   "file_extension": ".py",
   "mimetype": "text/x-python",
   "name": "python",
   "nbconvert_exporter": "python",
   "pygments_lexer": "ipython3",
   "version": "3.6.8"
  }
 },
 "nbformat": 4,
 "nbformat_minor": 2
}
