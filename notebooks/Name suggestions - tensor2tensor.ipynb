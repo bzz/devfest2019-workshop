{
 "cells": [
  {
   "cell_type": "code",
   "execution_count": 1,
   "metadata": {
    "ExecuteTime": {
     "end_time": "2019-10-25T20:53:35.718194Z",
     "start_time": "2019-10-25T20:53:35.708956Z"
    }
   },
   "outputs": [],
   "source": [
    "# !pip3 install --no-cache-dir --upgrade --force-reinstall tensorflow==1.14 #tensorflow-gpu\n",
    "# !pip3 install --no-cache-dir tensor2tensor\n",
    "# !pip3 install --no-cache-dir bblfsh"
   ]
  },
  {
   "cell_type": "code",
   "execution_count": 1,
   "metadata": {
    "ExecuteTime": {
     "end_time": "2019-10-30T12:51:35.842610Z",
     "start_time": "2019-10-30T12:51:29.473169Z"
    }
   },
   "outputs": [
    {
     "name": "stderr",
     "output_type": "stream",
     "text": [
      "/usr/local/lib/python3.6/dist-packages/tensorflow/python/framework/dtypes.py:516: FutureWarning: Passing (type, 1) or '1type' as a synonym of type is deprecated; in a future version of numpy, it will be understood as (type, (1,)) / '(1,)type'.\n",
      "  _np_qint8 = np.dtype([(\"qint8\", np.int8, 1)])\n",
      "/usr/local/lib/python3.6/dist-packages/tensorflow/python/framework/dtypes.py:517: FutureWarning: Passing (type, 1) or '1type' as a synonym of type is deprecated; in a future version of numpy, it will be understood as (type, (1,)) / '(1,)type'.\n",
      "  _np_quint8 = np.dtype([(\"quint8\", np.uint8, 1)])\n",
      "/usr/local/lib/python3.6/dist-packages/tensorflow/python/framework/dtypes.py:518: FutureWarning: Passing (type, 1) or '1type' as a synonym of type is deprecated; in a future version of numpy, it will be understood as (type, (1,)) / '(1,)type'.\n",
      "  _np_qint16 = np.dtype([(\"qint16\", np.int16, 1)])\n",
      "/usr/local/lib/python3.6/dist-packages/tensorflow/python/framework/dtypes.py:519: FutureWarning: Passing (type, 1) or '1type' as a synonym of type is deprecated; in a future version of numpy, it will be understood as (type, (1,)) / '(1,)type'.\n",
      "  _np_quint16 = np.dtype([(\"quint16\", np.uint16, 1)])\n",
      "/usr/local/lib/python3.6/dist-packages/tensorflow/python/framework/dtypes.py:520: FutureWarning: Passing (type, 1) or '1type' as a synonym of type is deprecated; in a future version of numpy, it will be understood as (type, (1,)) / '(1,)type'.\n",
      "  _np_qint32 = np.dtype([(\"qint32\", np.int32, 1)])\n",
      "/usr/local/lib/python3.6/dist-packages/tensorflow/python/framework/dtypes.py:525: FutureWarning: Passing (type, 1) or '1type' as a synonym of type is deprecated; in a future version of numpy, it will be understood as (type, (1,)) / '(1,)type'.\n",
      "  np_resource = np.dtype([(\"resource\", np.ubyte, 1)])\n",
      "/usr/local/lib/python3.6/dist-packages/tensorboard/compat/tensorflow_stub/dtypes.py:541: FutureWarning: Passing (type, 1) or '1type' as a synonym of type is deprecated; in a future version of numpy, it will be understood as (type, (1,)) / '(1,)type'.\n",
      "  _np_qint8 = np.dtype([(\"qint8\", np.int8, 1)])\n",
      "/usr/local/lib/python3.6/dist-packages/tensorboard/compat/tensorflow_stub/dtypes.py:542: FutureWarning: Passing (type, 1) or '1type' as a synonym of type is deprecated; in a future version of numpy, it will be understood as (type, (1,)) / '(1,)type'.\n",
      "  _np_quint8 = np.dtype([(\"quint8\", np.uint8, 1)])\n",
      "/usr/local/lib/python3.6/dist-packages/tensorboard/compat/tensorflow_stub/dtypes.py:543: FutureWarning: Passing (type, 1) or '1type' as a synonym of type is deprecated; in a future version of numpy, it will be understood as (type, (1,)) / '(1,)type'.\n",
      "  _np_qint16 = np.dtype([(\"qint16\", np.int16, 1)])\n",
      "/usr/local/lib/python3.6/dist-packages/tensorboard/compat/tensorflow_stub/dtypes.py:544: FutureWarning: Passing (type, 1) or '1type' as a synonym of type is deprecated; in a future version of numpy, it will be understood as (type, (1,)) / '(1,)type'.\n",
      "  _np_quint16 = np.dtype([(\"quint16\", np.uint16, 1)])\n",
      "/usr/local/lib/python3.6/dist-packages/tensorboard/compat/tensorflow_stub/dtypes.py:545: FutureWarning: Passing (type, 1) or '1type' as a synonym of type is deprecated; in a future version of numpy, it will be understood as (type, (1,)) / '(1,)type'.\n",
      "  _np_qint32 = np.dtype([(\"qint32\", np.int32, 1)])\n",
      "/usr/local/lib/python3.6/dist-packages/tensorboard/compat/tensorflow_stub/dtypes.py:550: FutureWarning: Passing (type, 1) or '1type' as a synonym of type is deprecated; in a future version of numpy, it will be understood as (type, (1,)) / '(1,)type'.\n",
      "  np_resource = np.dtype([(\"resource\", np.ubyte, 1)])\n"
     ]
    },
    {
     "name": "stdout",
     "output_type": "stream",
     "text": [
      "1.14.0\n",
      "WARNING:tensorflow:\n",
      "The TensorFlow contrib module will not be included in TensorFlow 2.0.\n",
      "For more information, please see:\n",
      "  * https://github.com/tensorflow/community/blob/master/rfcs/20180907-contrib-sunset.md\n",
      "  * https://github.com/tensorflow/addons\n",
      "  * https://github.com/tensorflow/io (for I/O related ops)\n",
      "If you depend on functionality not listed there, please file an issue.\n",
      "\n",
      "WARNING:tensorflow:From /usr/local/lib/python3.6/dist-packages/tensor2tensor/utils/metrics_hook.py:28: The name tf.train.SessionRunHook is deprecated. Please use tf.estimator.SessionRunHook instead.\n",
      "\n",
      "WARNING:tensorflow:From /usr/local/lib/python3.6/dist-packages/tensor2tensor/utils/adafactor.py:27: The name tf.train.Optimizer is deprecated. Please use tf.compat.v1.train.Optimizer instead.\n",
      "\n",
      "WARNING:tensorflow:From /usr/local/lib/python3.6/dist-packages/tensor2tensor/utils/multistep_optimizer.py:32: The name tf.train.AdamOptimizer is deprecated. Please use tf.compat.v1.train.AdamOptimizer instead.\n",
      "\n",
      "WARNING:tensorflow:From /usr/local/lib/python3.6/dist-packages/tensor2tensor/utils/trainer_lib.py:111: The name tf.OptimizerOptions is deprecated. Please use tf.compat.v1.OptimizerOptions instead.\n",
      "\n",
      "WARNING:tensorflow:From /usr/local/lib/python3.6/dist-packages/tensor2tensor/utils/trainer_lib.py:844: The name tf.set_random_seed is deprecated. Please use tf.compat.v1.set_random_seed instead.\n",
      "\n"
     ]
    }
   ],
   "source": [
    "#@title Run this only once - Sets up TF Eager execution.\n",
    "import tensorflow as tf\n",
    "\n",
    "# t2t supports only TF 1.14 ATM\n",
    "print(tf.__version__)\n",
    "\n",
    "# Enable Eager execution - useful for seeing the generated data.\n",
    "tf.enable_eager_execution()\n",
    "\n",
    "# Set a seed so that we have deterministic outputs.\n",
    "from tensor2tensor.utils import trainer_lib\n",
    "RANDOM_SEED = 301\n",
    "trainer_lib.set_random_seed(RANDOM_SEED)"
   ]
  },
  {
   "cell_type": "markdown",
   "metadata": {},
   "source": [
    "# Function name suggestion\n",
    "\n",
    "Given the _function body_ text, suggest a _function name_.\n",
    "\n",
    "Use existing multi-lingual dataset of ~3m functions from Github CodeSearchNet (500k Java).\n",
    "\n",
    "Q: best way to compare results:\n",
    " - \\w identifier-based predictions?\n",
    " - \\w literature"
   ]
  },
  {
   "cell_type": "code",
   "execution_count": null,
   "metadata": {},
   "outputs": [],
   "source": []
  },
  {
   "cell_type": "markdown",
   "metadata": {
    "ExecuteTime": {
     "end_time": "2019-10-26T13:06:32.957984Z",
     "start_time": "2019-10-26T13:06:32.930510Z"
    }
   },
   "source": [
    "## Data: exploration"
   ]
  },
  {
   "cell_type": "code",
   "execution_count": 5,
   "metadata": {
    "ExecuteTime": {
     "end_time": "2019-10-30T15:31:56.209021Z",
     "start_time": "2019-10-30T15:31:56.102847Z"
    }
   },
   "outputs": [
    {
     "name": "stdout",
     "output_type": "stream",
     "text": [
      "Total number of files: 18\n"
     ]
    }
   ],
   "source": [
    "from pathlib import Path\n",
    "\n",
    "java_files = sorted(Path('/devfest/repos/name-suggestion/tmp/java/').glob('**/*.gz'))\n",
    "print(f'Total number of files: {len(java_files):,}')\n",
    "\n",
    "columns_long_list = ['repo', 'path', 'url', 'code', \n",
    "                     'code_tokens', 'func_name', \n",
    "                     'language', 'partition']\n",
    "\n",
    "def jsonl_list_to_dataframe(file_list, columns=columns_long_list):\n",
    "    \"\"\"Load a list of jsonl.gz files into a pandas DataFrame.\"\"\"\n",
    "    return pd.concat([pd.read_json(f, \n",
    "                                   orient='records', \n",
    "                                   compression='gzip',\n",
    "                                   lines=True)[columns] \n",
    "                      for f in file_list], sort=False)\n"
   ]
  },
  {
   "cell_type": "code",
   "execution_count": 6,
   "metadata": {
    "ExecuteTime": {
     "end_time": "2019-10-30T15:32:54.653359Z",
     "start_time": "2019-10-30T15:31:59.007881Z"
    }
   },
   "outputs": [],
   "source": [
    "jdf = jsonl_list_to_dataframe(java_files)"
   ]
  },
  {
   "cell_type": "code",
   "execution_count": 20,
   "metadata": {
    "ExecuteTime": {
     "end_time": "2019-10-26T21:36:57.649841Z",
     "start_time": "2019-10-26T21:36:57.592537Z"
    }
   },
   "outputs": [
    {
     "data": {
      "text/html": [
       "<div>\n",
       "<style scoped>\n",
       "    .dataframe tbody tr th:only-of-type {\n",
       "        vertical-align: middle;\n",
       "    }\n",
       "\n",
       "    .dataframe tbody tr th {\n",
       "        vertical-align: top;\n",
       "    }\n",
       "\n",
       "    .dataframe thead th {\n",
       "        text-align: right;\n",
       "    }\n",
       "</style>\n",
       "<table border=\"1\" class=\"dataframe\">\n",
       "  <thead>\n",
       "    <tr style=\"text-align: right;\">\n",
       "      <th></th>\n",
       "      <th>repo</th>\n",
       "      <th>path</th>\n",
       "      <th>url</th>\n",
       "      <th>code</th>\n",
       "      <th>code_tokens</th>\n",
       "      <th>func_name</th>\n",
       "      <th>language</th>\n",
       "      <th>partition</th>\n",
       "    </tr>\n",
       "  </thead>\n",
       "  <tbody>\n",
       "    <tr>\n",
       "      <td>0</td>\n",
       "      <td>ReactiveX/RxJava</td>\n",
       "      <td>src/main/java/io/reactivex/internal/observers/...</td>\n",
       "      <td>https://github.com/ReactiveX/RxJava/blob/ac841...</td>\n",
       "      <td>protected final void fastPathOrderedEmit(U val...</td>\n",
       "      <td>[protected, final, void, fastPathOrderedEmit, ...</td>\n",
       "      <td>QueueDrainObserver.fastPathOrderedEmit</td>\n",
       "      <td>java</td>\n",
       "      <td>test</td>\n",
       "    </tr>\n",
       "    <tr>\n",
       "      <td>1</td>\n",
       "      <td>ReactiveX/RxJava</td>\n",
       "      <td>src/main/java/io/reactivex/Observable.java</td>\n",
       "      <td>https://github.com/ReactiveX/RxJava/blob/ac841...</td>\n",
       "      <td>@CheckReturnValue\\n    @NonNull\\n    @Schedule...</td>\n",
       "      <td>[@, CheckReturnValue, @, NonNull, @, Scheduler...</td>\n",
       "      <td>Observable.amb</td>\n",
       "      <td>java</td>\n",
       "      <td>test</td>\n",
       "    </tr>\n",
       "    <tr>\n",
       "      <td>2</td>\n",
       "      <td>ReactiveX/RxJava</td>\n",
       "      <td>src/main/java/io/reactivex/Observable.java</td>\n",
       "      <td>https://github.com/ReactiveX/RxJava/blob/ac841...</td>\n",
       "      <td>@SuppressWarnings(\"unchecked\")\\n    @CheckRetu...</td>\n",
       "      <td>[@, SuppressWarnings, (, \"unchecked\", ), @, Ch...</td>\n",
       "      <td>Observable.ambArray</td>\n",
       "      <td>java</td>\n",
       "      <td>test</td>\n",
       "    </tr>\n",
       "  </tbody>\n",
       "</table>\n",
       "</div>"
      ],
      "text/plain": [
       "               repo                                               path  \\\n",
       "0  ReactiveX/RxJava  src/main/java/io/reactivex/internal/observers/...   \n",
       "1  ReactiveX/RxJava         src/main/java/io/reactivex/Observable.java   \n",
       "2  ReactiveX/RxJava         src/main/java/io/reactivex/Observable.java   \n",
       "\n",
       "                                                 url  \\\n",
       "0  https://github.com/ReactiveX/RxJava/blob/ac841...   \n",
       "1  https://github.com/ReactiveX/RxJava/blob/ac841...   \n",
       "2  https://github.com/ReactiveX/RxJava/blob/ac841...   \n",
       "\n",
       "                                                code  \\\n",
       "0  protected final void fastPathOrderedEmit(U val...   \n",
       "1  @CheckReturnValue\\n    @NonNull\\n    @Schedule...   \n",
       "2  @SuppressWarnings(\"unchecked\")\\n    @CheckRetu...   \n",
       "\n",
       "                                         code_tokens  \\\n",
       "0  [protected, final, void, fastPathOrderedEmit, ...   \n",
       "1  [@, CheckReturnValue, @, NonNull, @, Scheduler...   \n",
       "2  [@, SuppressWarnings, (, \"unchecked\", ), @, Ch...   \n",
       "\n",
       "                                func_name language partition  \n",
       "0  QueueDrainObserver.fastPathOrderedEmit     java      test  \n",
       "1                          Observable.amb     java      test  \n",
       "2                     Observable.ambArray     java      test  "
      ]
     },
     "execution_count": 20,
     "metadata": {},
     "output_type": "execute_result"
    }
   ],
   "source": [
    "jdf.head(3)"
   ]
  },
  {
   "cell_type": "code",
   "execution_count": 81,
   "metadata": {
    "ExecuteTime": {
     "end_time": "2019-10-26T20:49:56.401997Z",
     "start_time": "2019-10-26T20:49:56.384883Z"
    }
   },
   "outputs": [
    {
     "data": {
      "text/plain": [
       "0    [protected, final, void, fastPathOrderedEmit, (, U, value, ,, boolean, delayError, ,, Disposable, disposable, ), {, final, Observer, <, ?, super, V, >, observer, =, downstream, ;, final, SimplePlainQueue, <, U, >, q, =, queue, ;, if, (, wip, ., get, (, ), ==, 0, &&, wip, ., compareAndSet, (, 0, ,, 1, ), ), {, if, (, q, ., isEmpty, (, ), ), {, accept, (, observer, ,, value, ), ;, if, (, leave, (, -, 1, ), ==, 0, ), {, return, ;, }, }, else, {, q, ., offer, (, value, ), ;, }, }, else, {, q, ...]                                                                                  \n",
       "1    [@, CheckReturnValue, @, NonNull, @, SchedulerSupport, (, SchedulerSupport, ., NONE, ), public, static, <, T, >, Observable, <, T, >, amb, (, Iterable, <, ?, extends, ObservableSource, <, ?, extends, T, >, >, sources, ), {, ObjectHelper, ., requireNonNull, (, sources, ,, \"sources is null\", ), ;, return, RxJavaPlugins, ., onAssembly, (, new, ObservableAmb, <, T, >, (, null, ,, sources, ), ), ;, }]                                                                                                                                                                                     \n",
       "2    [@, SuppressWarnings, (, \"unchecked\", ), @, CheckReturnValue, @, NonNull, @, SchedulerSupport, (, SchedulerSupport, ., NONE, ), public, static, <, T, >, Observable, <, T, >, ambArray, (, ObservableSource, <, ?, extends, T, >, ..., sources, ), {, ObjectHelper, ., requireNonNull, (, sources, ,, \"sources is null\", ), ;, int, len, =, sources, ., length, ;, if, (, len, ==, 0, ), {, return, empty, (, ), ;, }, if, (, len, ==, 1, ), {, return, (, Observable, <, T, >, ), wrap, (, sources, [, 0, ], ), ;, }, return, RxJavaPlugins, ., onAssembly, (, new, ObservableAmb, <, T, >, (, ...]\n",
       "Name: code_tokens, dtype: object"
      ]
     },
     "metadata": {},
     "output_type": "display_data"
    }
   ],
   "source": [
    "# with pd.option_context('display.max_colwidth', -1):\n",
    "#     display(jdf.code_tokens.head(3))"
   ]
  },
  {
   "cell_type": "code",
   "execution_count": 74,
   "metadata": {
    "ExecuteTime": {
     "end_time": "2019-10-26T14:48:02.449957Z",
     "start_time": "2019-10-26T14:48:02.199718Z"
    }
   },
   "outputs": [
    {
     "data": {
      "text/plain": [
       "train    454451\n",
       "test      26909\n",
       "valid     15328\n",
       "Name: partition, dtype: int64"
      ]
     },
     "execution_count": 74,
     "metadata": {},
     "output_type": "execute_result"
    }
   ],
   "source": [
    "jdf.partition.value_counts()"
   ]
  },
  {
   "cell_type": "code",
   "execution_count": 21,
   "metadata": {
    "ExecuteTime": {
     "end_time": "2019-10-26T21:36:58.925776Z",
     "start_time": "2019-10-26T21:36:57.655080Z"
    }
   },
   "outputs": [],
   "source": [
    "jdf['code_len'] = jdf.code_tokens.apply(lambda x: len(x))\n",
    "jdf['func_name_len'] = jdf.func_name.apply(lambda x: len(x))\n",
    "jdf['func_name_splits'] = jdf.func_name.apply(lambda x: len(x.split('.')))"
   ]
  },
  {
   "cell_type": "code",
   "execution_count": 72,
   "metadata": {
    "ExecuteTime": {
     "end_time": "2019-10-26T13:49:11.273500Z",
     "start_time": "2019-10-26T13:49:11.249924Z"
    }
   },
   "outputs": [
    {
     "data": {
      "text/html": [
       "<div>\n",
       "<style scoped>\n",
       "    .dataframe tbody tr th:only-of-type {\n",
       "        vertical-align: middle;\n",
       "    }\n",
       "\n",
       "    .dataframe tbody tr th {\n",
       "        vertical-align: top;\n",
       "    }\n",
       "\n",
       "    .dataframe thead th {\n",
       "        text-align: right;\n",
       "    }\n",
       "</style>\n",
       "<table border=\"1\" class=\"dataframe\">\n",
       "  <thead>\n",
       "    <tr style=\"text-align: right;\">\n",
       "      <th></th>\n",
       "      <th>func_name_len</th>\n",
       "    </tr>\n",
       "  </thead>\n",
       "  <tbody>\n",
       "    <tr>\n",
       "      <td>0.50</td>\n",
       "      <td>29.0</td>\n",
       "    </tr>\n",
       "    <tr>\n",
       "      <td>0.70</td>\n",
       "      <td>35.0</td>\n",
       "    </tr>\n",
       "    <tr>\n",
       "      <td>0.80</td>\n",
       "      <td>39.0</td>\n",
       "    </tr>\n",
       "    <tr>\n",
       "      <td>0.90</td>\n",
       "      <td>46.0</td>\n",
       "    </tr>\n",
       "    <tr>\n",
       "      <td>0.95</td>\n",
       "      <td>51.0</td>\n",
       "    </tr>\n",
       "    <tr>\n",
       "      <td>1.00</td>\n",
       "      <td>140.0</td>\n",
       "    </tr>\n",
       "  </tbody>\n",
       "</table>\n",
       "</div>"
      ],
      "text/plain": [
       "      func_name_len\n",
       "0.50           29.0\n",
       "0.70           35.0\n",
       "0.80           39.0\n",
       "0.90           46.0\n",
       "0.95           51.0\n",
       "1.00          140.0"
      ]
     },
     "metadata": {},
     "output_type": "display_data"
    }
   ],
   "source": [
    "# func_name, chars\n",
    "func_name_len_summary = jdf['func_name_len'].quantile([.5, .7, .8, .9, .95, 1])\n",
    "display(pd.DataFrame(func_name_len_summary))"
   ]
  },
  {
   "cell_type": "code",
   "execution_count": 16,
   "metadata": {
    "ExecuteTime": {
     "end_time": "2019-10-26T21:31:18.076940Z",
     "start_time": "2019-10-26T21:31:18.064087Z"
    }
   },
   "outputs": [],
   "source": [
    "str.find?"
   ]
  },
  {
   "cell_type": "code",
   "execution_count": 75,
   "metadata": {
    "ExecuteTime": {
     "end_time": "2019-10-26T18:26:42.010635Z",
     "start_time": "2019-10-26T18:26:41.974698Z"
    }
   },
   "outputs": [
    {
     "data": {
      "text/html": [
       "<div>\n",
       "<style scoped>\n",
       "    .dataframe tbody tr th:only-of-type {\n",
       "        vertical-align: middle;\n",
       "    }\n",
       "\n",
       "    .dataframe tbody tr th {\n",
       "        vertical-align: top;\n",
       "    }\n",
       "\n",
       "    .dataframe thead th {\n",
       "        text-align: right;\n",
       "    }\n",
       "</style>\n",
       "<table border=\"1\" class=\"dataframe\">\n",
       "  <thead>\n",
       "    <tr style=\"text-align: right;\">\n",
       "      <th></th>\n",
       "      <th>code_len</th>\n",
       "    </tr>\n",
       "  </thead>\n",
       "  <tbody>\n",
       "    <tr>\n",
       "      <td>0.50</td>\n",
       "      <td>66.0</td>\n",
       "    </tr>\n",
       "    <tr>\n",
       "      <td>0.70</td>\n",
       "      <td>104.0</td>\n",
       "    </tr>\n",
       "    <tr>\n",
       "      <td>0.80</td>\n",
       "      <td>142.0</td>\n",
       "    </tr>\n",
       "    <tr>\n",
       "      <td>0.90</td>\n",
       "      <td>224.0</td>\n",
       "    </tr>\n",
       "    <tr>\n",
       "      <td>0.95</td>\n",
       "      <td>331.0</td>\n",
       "    </tr>\n",
       "    <tr>\n",
       "      <td>1.00</td>\n",
       "      <td>68278.0</td>\n",
       "    </tr>\n",
       "  </tbody>\n",
       "</table>\n",
       "</div>"
      ],
      "text/plain": [
       "      code_len\n",
       "0.50      66.0\n",
       "0.70     104.0\n",
       "0.80     142.0\n",
       "0.90     224.0\n",
       "0.95     331.0\n",
       "1.00   68278.0"
      ]
     },
     "metadata": {},
     "output_type": "display_data"
    }
   ],
   "source": [
    "# code_len, tokens\n",
    "code_len_summary = jdf['code_len'].quantile([.5, .7, .8, .9, .95, 1])\n",
    "display(pd.DataFrame(code_len_summary))"
   ]
  },
  {
   "cell_type": "code",
   "execution_count": null,
   "metadata": {
    "ExecuteTime": {
     "end_time": "2019-10-26T21:37:43.499882Z",
     "start_time": "2019-10-26T21:37:37.234129Z"
    }
   },
   "outputs": [],
   "source": [
    "!pip3 install matplotlib"
   ]
  },
  {
   "cell_type": "code",
   "execution_count": 28,
   "metadata": {
    "ExecuteTime": {
     "end_time": "2019-10-26T21:40:15.621877Z",
     "start_time": "2019-10-26T21:40:12.025097Z"
    }
   },
   "outputs": [
    {
     "data": {
      "text/plain": [
       "<matplotlib.axes._subplots.AxesSubplot at 0x7f61c2cf9710>"
      ]
     },
     "execution_count": 28,
     "metadata": {},
     "output_type": "execute_result"
    },
    {
     "data": {
      "image/png": "[encoded data removed]",
      "text/plain": [
       "<Figure size 432x288 with 1 Axes>"
      ]
     },
     "metadata": {
      "needs_background": "light"
     },
     "output_type": "display_data"
    }
   ],
   "source": [
    "jdf.plot.hist(by='code_len', bins=120, log = True)"
   ]
  },
  {
   "cell_type": "code",
   "execution_count": 73,
   "metadata": {
    "ExecuteTime": {
     "end_time": "2019-10-26T13:50:00.977908Z",
     "start_time": "2019-10-26T13:50:00.601162Z"
    }
   },
   "outputs": [
    {
     "data": {
      "text/plain": [
       "partition  language\n",
       "test       java         26909\n",
       "train      java        454451\n",
       "valid      java         15328\n",
       "Name: code_tokens, dtype: int64"
      ]
     },
     "execution_count": 73,
     "metadata": {},
     "output_type": "execute_result"
    }
   ],
   "source": [
    "jdf.groupby(['partition', 'language'])['code_tokens'].count()"
   ]
  },
  {
   "cell_type": "code",
   "execution_count": 35,
   "metadata": {
    "ExecuteTime": {
     "end_time": "2019-10-27T13:24:37.178645Z",
     "start_time": "2019-10-27T13:24:37.063670Z"
    }
   },
   "outputs": [
    {
     "data": {
      "text/html": [
       "<div>\n",
       "<style scoped>\n",
       "    .dataframe tbody tr th:only-of-type {\n",
       "        vertical-align: middle;\n",
       "    }\n",
       "\n",
       "    .dataframe tbody tr th {\n",
       "        vertical-align: top;\n",
       "    }\n",
       "\n",
       "    .dataframe thead th {\n",
       "        text-align: right;\n",
       "    }\n",
       "</style>\n",
       "<table border=\"1\" class=\"dataframe\">\n",
       "  <thead>\n",
       "    <tr style=\"text-align: right;\">\n",
       "      <th></th>\n",
       "      <th>code</th>\n",
       "      <th>code_tokens</th>\n",
       "    </tr>\n",
       "  </thead>\n",
       "  <tbody>\n",
       "    <tr>\n",
       "      <td>23235</td>\n",
       "      <td>@Given(\"ich habe eine Aktion mit dem Symbol $sümbol und eine Schwelle von $threshold\")\\n    public void aStock(@Named(\"sümbol\") String symbol, @Named(\"threshold\") double threshold) {\\n        stock = new Stock(symbol, threshold);\\n    }</td>\n",
       "      <td>[@, Given, (, \"ich habe eine Aktion mit dem Symbol $sümbol und eine Schwelle von $threshold\"), , public, void, aStock, (, @, Named, (, \"sümbol\"),  , tring , ymbol,,  , N, amed(, \", threshold\"),  , ouble , hreshold),  , , stock, =, new, Stock, (, symbol, ,, threshold, ), ;, }]</td>\n",
       "    </tr>\n",
       "  </tbody>\n",
       "</table>\n",
       "</div>"
      ],
      "text/plain": [
       "                                                                                                                                                                                                                                               code  \\\n",
       "23235  @Given(\"ich habe eine Aktion mit dem Symbol $sümbol und eine Schwelle von $threshold\")\\n    public void aStock(@Named(\"sümbol\") String symbol, @Named(\"threshold\") double threshold) {\\n        stock = new Stock(symbol, threshold);\\n    }   \n",
       "\n",
       "                                                                                                                                                                                                                                                                                code_tokens  \n",
       "23235  [@, Given, (, \"ich habe eine Aktion mit dem Symbol $sümbol und eine Schwelle von $threshold\"), , public, void, aStock, (, @, Named, (, \"sümbol\"),  , tring , ymbol,,  , N, amed(, \", threshold\"),  , ouble , hreshold),  , , stock, =, new, Stock, (, symbol, ,, threshold, ), ;, }]  "
      ]
     },
     "metadata": {},
     "output_type": "display_data"
    }
   ],
   "source": [
    "# dataset outlier analysis\n",
    "with pd.option_context('display.max_colwidth', -1):\n",
    "    display(jdf.loc[jdf['url'] == 'https://github.com/jbehave/jbehave-core/blob/bdd6a6199528df3c35087e72d4644870655b23e6/examples/i18n/src/main/java/org/jbehave/examples/trader/i18n/steps/DeSteps.java#L22-L25'][['code', 'code_tokens']])"
   ]
  },
  {
   "cell_type": "code",
   "execution_count": 41,
   "metadata": {
    "ExecuteTime": {
     "end_time": "2019-10-30T18:53:05.160828Z",
     "start_time": "2019-10-30T18:53:04.594805Z"
    }
   },
   "outputs": [
    {
     "data": {
      "text/html": [
       "<div>\n",
       "<style scoped>\n",
       "    .dataframe tbody tr th:only-of-type {\n",
       "        vertical-align: middle;\n",
       "    }\n",
       "\n",
       "    .dataframe tbody tr th {\n",
       "        vertical-align: top;\n",
       "    }\n",
       "\n",
       "    .dataframe thead th {\n",
       "        text-align: right;\n",
       "    }\n",
       "</style>\n",
       "<table border=\"1\" class=\"dataframe\">\n",
       "  <thead>\n",
       "    <tr style=\"text-align: right;\">\n",
       "      <th></th>\n",
       "      <th>url</th>\n",
       "      <th>code</th>\n",
       "      <th>code_tokens</th>\n",
       "    </tr>\n",
       "  </thead>\n",
       "  <tbody>\n",
       "    <tr>\n",
       "      <td>572</td>\n",
       "      <td>https://github.com/hankcs/HanLP/blob/a538d0722ab2e4980a9dcd9ea40324fc3ddba7ce/src/main/java/com/hankcs/hanlp/model/trigram/CharacterBasedGenerativeModel.java#L177-L255</td>\n",
       "      <td>public char[] tag(char[] charArray)\\n    {\\n        if (charArray.length == 0) return new char[0];\\n        if (charArray.length == 1) return new char[]{'s'};\\n        char[] tag = new char[charArray.length];\\n        double[][] now = new double[4][4];\\n        double[] first = new double[4];\\n\\n        // link[i][s][t] := 第i个节点在前一个状态是s，当前状态是t时，前2个状态的tag的值\\n        int[][][] link = new int[charArray.length][4][4];\\n        // 第一个字，只可能是bs\\n        for (int s = 0; s &lt; 4; ++s)\\n        {\\n            double p = (s == 1 || s == 2) ? inf : log_prob(bos[0], 4, bos[0], 4, charArray[0],s);\\n            first[s] = p;\\n        }\\n\\n        // 第二个字，尚不能完全利用TriGram\\n        for (int f = 0; f &lt; 4; ++f)\\n        {\\n            for (int s = 0; s &lt; 4; ++s)\\n            {\\n                double p = first[f] + log_prob(bos[0],4, charArray[0],f, charArray[1],s);\\n                now[f][s] = p;\\n                link[1][f][s] = f;\\n            }\\n        }\\n\\n        // 第三个字开始，利用TriGram标注\\n        double[][] pre = new double[4][4];\\n        for (int i = 2; i &lt; charArray.length; i++)\\n        {\\n            // swap(now, pre)\\n            double[][] _ = pre;\\n            pre = now;\\n            now = _;\\n            // end of swap\\n            for (int s = 0; s &lt; 4; ++s)\\n            {\\n                for (int t = 0; t &lt; 4; ++t)\\n                {\\n                    now[s][t] = -1e20;\\n                    for (int f = 0; f &lt; 4; ++f)\\n                    {\\n                        double p = pre[f][s] + log_prob(charArray[i - 2], f,\\n                                                        charArray[i - 1], s,\\n                                                        charArray[i],     t);\\n                        if (p &gt; now[s][t])\\n                        {\\n                            now[s][t] = p;\\n                            link[i][s][t] = f;\\n                        }\\n                    }\\n                }\\n            }\\n        }\\n        // 无法保证最优路径每个状态的概率都是非最小值, 所以回溯路径得分最小值必须小于inf\\n        double score = charArray.length*inf;\\n        int s = 0;\\n        int t = 0;\\n        for (int i = 0; i &lt; probableTail.length; i++)\\n        {\\n            int [] state = probableTail[i];\\n            if (now[state[0]][state[1]] &gt; score)\\n            {\\n                score = now[state[0]][state[1]];\\n                s = state[0];\\n                t = state[1];\\n            }\\n        }\\n        for (int i = link.length - 1; i &gt;= 0; --i)\\n        {\\n            tag[i] = id2tag[t];\\n            int f = link[i][s][t];\\n            t = s;\\n            s = f;\\n        }\\n        return tag;\\n    }</td>\n",
       "      <td>[public, char, [, ], tag, (, char, [, ], charArray, ), {, if, (, charArray, ., length, ==, 0, ), return, new, char, [, 0, ], ;, if, (, charArray, ., length, ==, 1, ), return, new, char, [, ], {, ', ', }, ;, char, [, ], tag, =, new, char, [, charArray, ., length, ], ;, double, [, ], [, ], now, =, new, double, [, 4, ], [, 4, ], ;, double, [, ], first, =, new, double, [, 4, ], ;, // link[i][s][t] := 第i个节点在前一个状态是s，当前状态是t时，前2个状态的tag的值, int, [, ], [, ], [, ], link, =, new, int, [, charArray, ., ...]</td>\n",
       "    </tr>\n",
       "  </tbody>\n",
       "</table>\n",
       "</div>"
      ],
      "text/plain": [
       "                                                                                                                                                                         url  \\\n",
       "572  https://github.com/hankcs/HanLP/blob/a538d0722ab2e4980a9dcd9ea40324fc3ddba7ce/src/main/java/com/hankcs/hanlp/model/trigram/CharacterBasedGenerativeModel.java#L177-L255   \n",
       "\n",
       "                                                                                                                                                                                                                                                                                                                                                                                                                                                                                                                                                                                                                                                                                                                                                                                                                                                                                                                                                                                                                                                                                                                                                                                                                                                                                                                                                                                                                                                                                                                                                                                                                                                                                                                                                                                                                                                                                                                                                                                                                                                                                                                                                                                                                                                                                                                                                                                                                                                                                                                                                                                                                                                                                                                          code  \\\n",
       "572  public char[] tag(char[] charArray)\\n    {\\n        if (charArray.length == 0) return new char[0];\\n        if (charArray.length == 1) return new char[]{'s'};\\n        char[] tag = new char[charArray.length];\\n        double[][] now = new double[4][4];\\n        double[] first = new double[4];\\n\\n        // link[i][s][t] := 第i个节点在前一个状态是s，当前状态是t时，前2个状态的tag的值\\n        int[][][] link = new int[charArray.length][4][4];\\n        // 第一个字，只可能是bs\\n        for (int s = 0; s < 4; ++s)\\n        {\\n            double p = (s == 1 || s == 2) ? inf : log_prob(bos[0], 4, bos[0], 4, charArray[0],s);\\n            first[s] = p;\\n        }\\n\\n        // 第二个字，尚不能完全利用TriGram\\n        for (int f = 0; f < 4; ++f)\\n        {\\n            for (int s = 0; s < 4; ++s)\\n            {\\n                double p = first[f] + log_prob(bos[0],4, charArray[0],f, charArray[1],s);\\n                now[f][s] = p;\\n                link[1][f][s] = f;\\n            }\\n        }\\n\\n        // 第三个字开始，利用TriGram标注\\n        double[][] pre = new double[4][4];\\n        for (int i = 2; i < charArray.length; i++)\\n        {\\n            // swap(now, pre)\\n            double[][] _ = pre;\\n            pre = now;\\n            now = _;\\n            // end of swap\\n            for (int s = 0; s < 4; ++s)\\n            {\\n                for (int t = 0; t < 4; ++t)\\n                {\\n                    now[s][t] = -1e20;\\n                    for (int f = 0; f < 4; ++f)\\n                    {\\n                        double p = pre[f][s] + log_prob(charArray[i - 2], f,\\n                                                        charArray[i - 1], s,\\n                                                        charArray[i],     t);\\n                        if (p > now[s][t])\\n                        {\\n                            now[s][t] = p;\\n                            link[i][s][t] = f;\\n                        }\\n                    }\\n                }\\n            }\\n        }\\n        // 无法保证最优路径每个状态的概率都是非最小值, 所以回溯路径得分最小值必须小于inf\\n        double score = charArray.length*inf;\\n        int s = 0;\\n        int t = 0;\\n        for (int i = 0; i < probableTail.length; i++)\\n        {\\n            int [] state = probableTail[i];\\n            if (now[state[0]][state[1]] > score)\\n            {\\n                score = now[state[0]][state[1]];\\n                s = state[0];\\n                t = state[1];\\n            }\\n        }\\n        for (int i = link.length - 1; i >= 0; --i)\\n        {\\n            tag[i] = id2tag[t];\\n            int f = link[i][s][t];\\n            t = s;\\n            s = f;\\n        }\\n        return tag;\\n    }   \n",
       "\n",
       "                                                                                                                                                                                                                                                                                                                                                                                                                                                                                                            code_tokens  \n",
       "572  [public, char, [, ], tag, (, char, [, ], charArray, ), {, if, (, charArray, ., length, ==, 0, ), return, new, char, [, 0, ], ;, if, (, charArray, ., length, ==, 1, ), return, new, char, [, ], {, ', ', }, ;, char, [, ], tag, =, new, char, [, charArray, ., length, ], ;, double, [, ], [, ], now, =, new, double, [, 4, ], [, 4, ], ;, double, [, ], first, =, new, double, [, 4, ], ;, // link[i][s][t] := 第i个节点在前一个状态是s，当前状态是t时，前2个状态的tag的值, int, [, ], [, ], [, ], link, =, new, int, [, charArray, ., ...]  "
      ]
     },
     "metadata": {},
     "output_type": "display_data"
    },
    {
     "data": {
      "text/plain": [
       "url            1\n",
       "code           1\n",
       "code_tokens    1\n",
       "dtype: int64"
      ]
     },
     "execution_count": 41,
     "metadata": {},
     "output_type": "execute_result"
    }
   ],
   "source": [
    "strange_func_name1=\"\"\"global访问Beetl上下文的全局变量\"\"\"\n",
    "strange_func_name2=\"getNamesForType\"\n",
    "strange_func_name3=\"acceptsTextHtml\"\n",
    "strange_func_name4=\"第i个节点在前一个状态是s，当前状态是t时，前2个状态的tag的值\"\n",
    "\n",
    "with pd.option_context('display.max_colwidth', -1):\n",
    "    a = jdf[jdf.code.str.contains(strange_func_name4)][[\"url\", \"code\", \"code_tokens\"]]\n",
    "    display(a)\n",
    "a.count()\n",
    "    #display(a)\n",
    "\n",
    "#a[a == True]\n",
    "#jdf.iloc[13911].url\n",
    "\n",
    "\n",
    "# with pd.option_context('display.max_colwidth', -1):\n",
    "#     display(jdf.loc[jdf['func_name'] == strange_func_name])"
   ]
  },
  {
   "cell_type": "markdown",
   "metadata": {
    "ExecuteTime": {
     "end_time": "2019-10-23T05:10:57.452484Z",
     "start_time": "2019-10-23T05:10:57.446211Z"
    },
    "heading_collapsed": true
   },
   "source": [
    "## Data: problem definition for CodeSearchNet"
   ]
  },
  {
   "cell_type": "code",
   "execution_count": 2,
   "metadata": {
    "ExecuteTime": {
     "end_time": "2019-10-30T12:51:37.393822Z",
     "start_time": "2019-10-30T12:51:37.358147Z"
    },
    "hidden": true
   },
   "outputs": [],
   "source": [
    "import os\n",
    "import subprocess\n",
    "\n",
    "import tensorflow as tf\n",
    "import pandas as pd\n",
    "\n",
    "from tensor2tensor.data_generators import problem\n",
    "from tensor2tensor.data_generators import text_problems\n",
    "from tensor2tensor.data_generators import generator_utils\n",
    "from tensor2tensor.utils import registry\n",
    "\n",
    "\n",
    "@registry.register_problem\n",
    "class ProgrammingFunctionName(text_problems.Text2TextProblem):\n",
    "  \"\"\"Suggest a function name based on the function body text\"\"\"\n",
    "\n",
    "  URL = \"https://s3.amazonaws.com/code-search-net/CodeSearchNet/v2/java.zip\"\n",
    "  EXT = \"*.jsonl.gz\"\n",
    "\n",
    "  @staticmethod\n",
    "  def _extract_filename_from_url(url):\n",
    "    # Get everything from the last / onwards.\n",
    "    return os.path.basename(url)\n",
    "\n",
    "  @property\n",
    "  def use_identifiers(self):\n",
    "    return False\n",
    "\n",
    "  @property\n",
    "  def is_generate_per_split(self):\n",
    "    # since we already have the train and the valid set separated out.\n",
    "    return True\n",
    "\n",
    "  @property\n",
    "  def dataset_splits(self):\n",
    "    return [{\n",
    "        \"split\": problem.DatasetSplit.TRAIN,\n",
    "        \"shards\": 10,\n",
    "    }, {\n",
    "        \"split\": problem.DatasetSplit.EVAL,\n",
    "        \"shards\": 1,\n",
    "    }, {\n",
    "        \"split\": problem.DatasetSplit.TEST,\n",
    "        \"shards\": 1,\n",
    "    }]\n",
    "\n",
    "  @property\n",
    "  def vocab_type(self):\n",
    "    return text_problems.VocabType.SUBWORD\n",
    "\n",
    "  @property\n",
    "  def approx_vocab_size(self):\n",
    "    return 2**12  # 4k, default 8k\n",
    "\n",
    "  @property\n",
    "  def max_subtoken_length(self):\n",
    "    return 10  # 10 min, default 200 = 17min\n",
    "\n",
    "  def generate_samples(self, data_dir, tmp_dir, dataset_split):\n",
    "    del data_dir\n",
    "\n",
    "    # Download the data, if it doesn't already exist.\n",
    "    compressed_filepath = generator_utils.maybe_download(\n",
    "        tmp_dir, self._extract_filename_from_url(self.URL), self.URL)\n",
    "\n",
    "    decomp_path = compressed_filepath[:-4]\n",
    "\n",
    "    if not tf.gfile.Exists(decomp_path):\n",
    "      tf.logging.info(\"Decompressing {}\".format(compressed_filepath))\n",
    "      assert not subprocess.call([\"unzip\", \"-d\", tmp_dir, compressed_filepath])\n",
    "    else:\n",
    "      tf.logging.info(\"Not decompressing {}, {} found\".format(\n",
    "          compressed_filepath, decomp_path))\n",
    "    assert tf.gfile.Exists(decomp_path), \"path {} does not exit\".format(\n",
    "        decomp_path)\n",
    "\n",
    "    # iterate through the right split\n",
    "    split_files = {\n",
    "        problem.DatasetSplit.TRAIN:\n",
    "            tf.io.gfile.glob(\n",
    "                os.path.join(decomp_path, \"final\", \"jsonl\", \"train\", self.EXT)),\n",
    "        problem.DatasetSplit.EVAL:\n",
    "            tf.io.gfile.glob(\n",
    "                os.path.join(decomp_path, \"final\", \"jsonl\", \"valid\", self.EXT)),\n",
    "        problem.DatasetSplit.TEST:\n",
    "            tf.io.gfile.glob(\n",
    "                os.path.join(decomp_path, \"final\", \"jsonl\", \"test\", self.EXT))\n",
    "    }\n",
    "\n",
    "    if self.use_identifiers:\n",
    "        import bblfsh\n",
    "        client = bblfsh.BblfshClient(\"localhost:9432\")\n",
    "\n",
    "    # read every line in all the filess\n",
    "    files = split_files[dataset_split]\n",
    "    for filepath in sorted(files):\n",
    "      tf.logging.info(\"Reading %s\", filepath)\n",
    "      reader = pd.read_json(\n",
    "          filepath,\n",
    "          orient='records',\n",
    "          compression='gzip',\n",
    "          lines=True,\n",
    "          chunksize=1000)\n",
    "      for chunk in reader:\n",
    "        for i, row in chunk.iterrows():\n",
    "          func_name = row[\"func_name\"]\n",
    "          code = row[\"code\"]\n",
    "          # func_body = code - func_name\n",
    "          if self.use_identifiers():\n",
    "            # FIXME(bzz): too java-specific! no fn signature!\n",
    "            code = \"class TestClass {\\n{}\\n}\".format(row[\"code\"])\n",
    "            ids = client.parse(language=\"java\", content=code).filter(\"//uast:Identifier\")\n",
    "            ids = [i.get()[\"Name\"] for i in ids if i.get()[\"Name\"] != \"TestClass\" and i.get()[\"Name\"] != func_name]\n",
    "            func_body = \" \".join(ids)\n",
    "          else:\n",
    "            # FIXME(bzz): too java-specific! no fn signature!\n",
    "            func_body = code[code.find(\"{\")+1:code.find(\"}\")].lstrip().rstrip()\n",
    "          if func_body == code:\n",
    "            tf.logging.info(\"%s does not have a body\", row[\"url\"])\n",
    "            continue\n",
    "          yield {\n",
    "              \"inputs\": func_body,\n",
    "              \"targets\": func_name.split('.')[-1],\n",
    "          }\n",
    "\n",
    "\n",
    "@registry.register_problem\n",
    "class ProgrammingFunctionNameIdentifiers(ProgrammingFunctionName):\n",
    "    \"\"\"Suggest a function name based only on Identifiers from the body,\n",
    "        extracted by Bblfsh.\n",
    "    \"\"\"\n",
    "\n",
    "    @property\n",
    "    def use_identifiers(self):\n",
    "        return True\n"
   ]
  },
  {
   "cell_type": "code",
   "execution_count": 5,
   "metadata": {
    "ExecuteTime": {
     "end_time": "2019-10-30T12:49:27.955757Z",
     "start_time": "2019-10-30T12:49:27.138755Z"
    },
    "hidden": true
   },
   "outputs": [
    {
     "name": "stdout",
     "output_type": "stream",
     "text": [
      "/devfest/repos/name-suggestion\n",
      "/devfest/repos/name-suggestion/.DS_Store\n",
      "/devfest/repos/name-suggestion/data\n",
      "/devfest/repos/name-suggestion/data/programming_function_name-dev-00000-of-00001\n",
      "/devfest/repos/name-suggestion/data/programming_function_name-test-00000-of-00001\n",
      "/devfest/repos/name-suggestion/data/programming_function_name-train-00000-of-00010\n",
      "/devfest/repos/name-suggestion/data/programming_function_name-train-00001-of-00010\n",
      "/devfest/repos/name-suggestion/data/programming_function_name-train-00002-of-00010\n",
      "/devfest/repos/name-suggestion/data/programming_function_name-train-00003-of-00010\n",
      "/devfest/repos/name-suggestion/data/programming_function_name-train-00004-of-00010\n",
      "/devfest/repos/name-suggestion/data/programming_function_name-train-00005-of-00010\n",
      "/devfest/repos/name-suggestion/data/programming_function_name-train-00006-of-00010\n",
      "/devfest/repos/name-suggestion/data/programming_function_name-train-00007-of-00010\n",
      "/devfest/repos/name-suggestion/data/programming_function_name-train-00008-of-00010\n",
      "/devfest/repos/name-suggestion/data/programming_function_name-train-00009-of-00010\n",
      "/devfest/repos/name-suggestion/data/vocab.programming_function_name.4096.subwords\n",
      "/devfest/repos/name-suggestion/data-4k-10\n",
      "/devfest/repos/name-suggestion/data-4k-10/programming_function_name-dev-00000-of-00001\n",
      "/devfest/repos/name-suggestion/data-4k-10/programming_function_name-train-00000-of-00100\n",
      "/devfest/repos/name-suggestion/data-4k-10/programming_function_name-train-00001-of-00100\n",
      "/devfest/repos/name-suggestion/data-4k-10/programming_function_name-train-00002-of-00100\n",
      "/devfest/repos/name-suggestion/data-4k-10/programming_function_name-train-00003-of-00100\n",
      "/devfest/repos/name-suggestion/data-4k-10/programming_function_name-train-00004-of-00100\n",
      "/devfest/repos/name-suggestion/data-4k-10/programming_function_name-train-00005-of-00100\n",
      "/devfest/repos/name-suggestion/data-4k-10/programming_function_name-train-00006-of-00100\n",
      "/devfest/repos/name-suggestion/data-4k-10/programming_function_name-train-00007-of-00100\n",
      "/devfest/repos/name-suggestion/data-4k-10/programming_function_name-train-00008-of-00100\n",
      "/devfest/repos/name-suggestion/data-4k-10/programming_function_name-train-00009-of-00100\n",
      "/devfest/repos/name-suggestion/data-4k-10/programming_function_name-train-00010-of-00100\n",
      "/devfest/repos/name-suggestion/data-4k-10/programming_function_name-train-00011-of-00100\n",
      "/devfest/repos/name-suggestion/data-4k-10/programming_function_name-train-00012-of-00100\n",
      "/devfest/repos/name-suggestion/data-4k-10/programming_function_name-train-00013-of-00100\n",
      "/devfest/repos/name-suggestion/data-4k-10/programming_function_name-train-00014-of-00100\n",
      "/devfest/repos/name-suggestion/data-4k-10/programming_function_name-train-00015-of-00100\n",
      "/devfest/repos/name-suggestion/data-4k-10/programming_function_name-train-00016-of-00100\n",
      "/devfest/repos/name-suggestion/data-4k-10/programming_function_name-train-00017-of-00100\n",
      "/devfest/repos/name-suggestion/data-4k-10/programming_function_name-train-00018-of-00100\n",
      "/devfest/repos/name-suggestion/data-4k-10/programming_function_name-train-00019-of-00100\n",
      "/devfest/repos/name-suggestion/data-4k-10/programming_function_name-train-00020-of-00100\n",
      "/devfest/repos/name-suggestion/data-4k-10/programming_function_name-train-00021-of-00100\n",
      "/devfest/repos/name-suggestion/data-4k-10/programming_function_name-train-00022-of-00100\n",
      "/devfest/repos/name-suggestion/data-4k-10/programming_function_name-train-00023-of-00100\n",
      "/devfest/repos/name-suggestion/data-4k-10/programming_function_name-train-00024-of-00100\n",
      "/devfest/repos/name-suggestion/data-4k-10/programming_function_name-train-00025-of-00100\n",
      "/devfest/repos/name-suggestion/data-4k-10/programming_function_name-train-00026-of-00100\n",
      "/devfest/repos/name-suggestion/data-4k-10/programming_function_name-train-00027-of-00100\n",
      "/devfest/repos/name-suggestion/data-4k-10/programming_function_name-train-00028-of-00100\n",
      "/devfest/repos/name-suggestion/data-4k-10/programming_function_name-train-00029-of-00100\n",
      "/devfest/repos/name-suggestion/data-4k-10/programming_function_name-train-00030-of-00100\n",
      "/devfest/repos/name-suggestion/data-4k-10/programming_function_name-train-00031-of-00100\n",
      "/devfest/repos/name-suggestion/data-4k-10/programming_function_name-train-00032-of-00100\n",
      "/devfest/repos/name-suggestion/data-4k-10/programming_function_name-train-00033-of-00100\n",
      "/devfest/repos/name-suggestion/data-4k-10/programming_function_name-train-00034-of-00100\n",
      "/devfest/repos/name-suggestion/data-4k-10/programming_function_name-train-00035-of-00100\n",
      "/devfest/repos/name-suggestion/data-4k-10/programming_function_name-train-00036-of-00100\n",
      "/devfest/repos/name-suggestion/data-4k-10/programming_function_name-train-00037-of-00100\n",
      "/devfest/repos/name-suggestion/data-4k-10/programming_function_name-train-00038-of-00100\n",
      "/devfest/repos/name-suggestion/data-4k-10/programming_function_name-train-00039-of-00100\n",
      "/devfest/repos/name-suggestion/data-4k-10/programming_function_name-train-00040-of-00100\n",
      "/devfest/repos/name-suggestion/data-4k-10/programming_function_name-train-00041-of-00100\n",
      "/devfest/repos/name-suggestion/data-4k-10/programming_function_name-train-00042-of-00100\n",
      "/devfest/repos/name-suggestion/data-4k-10/programming_function_name-train-00043-of-00100\n",
      "/devfest/repos/name-suggestion/data-4k-10/programming_function_name-train-00044-of-00100\n",
      "/devfest/repos/name-suggestion/data-4k-10/programming_function_name-train-00045-of-00100\n",
      "/devfest/repos/name-suggestion/data-4k-10/programming_function_name-train-00046-of-00100\n",
      "/devfest/repos/name-suggestion/data-4k-10/programming_function_name-train-00047-of-00100\n",
      "/devfest/repos/name-suggestion/data-4k-10/programming_function_name-train-00048-of-00100\n",
      "/devfest/repos/name-suggestion/data-4k-10/programming_function_name-train-00049-of-00100\n",
      "/devfest/repos/name-suggestion/data-4k-10/programming_function_name-train-00050-of-00100\n",
      "/devfest/repos/name-suggestion/data-4k-10/programming_function_name-train-00051-of-00100\n",
      "/devfest/repos/name-suggestion/data-4k-10/programming_function_name-train-00052-of-00100\n",
      "/devfest/repos/name-suggestion/data-4k-10/programming_function_name-train-00053-of-00100\n",
      "/devfest/repos/name-suggestion/data-4k-10/programming_function_name-train-00054-of-00100\n",
      "/devfest/repos/name-suggestion/data-4k-10/programming_function_name-train-00055-of-00100\n",
      "/devfest/repos/name-suggestion/data-4k-10/programming_function_name-train-00056-of-00100\n",
      "/devfest/repos/name-suggestion/data-4k-10/programming_function_name-train-00057-of-00100\n",
      "/devfest/repos/name-suggestion/data-4k-10/programming_function_name-train-00058-of-00100\n",
      "/devfest/repos/name-suggestion/data-4k-10/programming_function_name-train-00059-of-00100\n",
      "/devfest/repos/name-suggestion/data-4k-10/programming_function_name-train-00060-of-00100\n",
      "/devfest/repos/name-suggestion/data-4k-10/programming_function_name-train-00061-of-00100\n",
      "/devfest/repos/name-suggestion/data-4k-10/programming_function_name-train-00062-of-00100\n",
      "/devfest/repos/name-suggestion/data-4k-10/programming_function_name-train-00063-of-00100\n",
      "/devfest/repos/name-suggestion/data-4k-10/programming_function_name-train-00064-of-00100\n",
      "/devfest/repos/name-suggestion/data-4k-10/programming_function_name-train-00065-of-00100\n",
      "/devfest/repos/name-suggestion/data-4k-10/programming_function_name-train-00066-of-00100\n",
      "/devfest/repos/name-suggestion/data-4k-10/programming_function_name-train-00067-of-00100\n",
      "/devfest/repos/name-suggestion/data-4k-10/programming_function_name-train-00068-of-00100\n",
      "/devfest/repos/name-suggestion/data-4k-10/programming_function_name-train-00069-of-00100\n",
      "/devfest/repos/name-suggestion/data-4k-10/programming_function_name-train-00070-of-00100\n",
      "/devfest/repos/name-suggestion/data-4k-10/programming_function_name-train-00071-of-00100\n",
      "/devfest/repos/name-suggestion/data-4k-10/programming_function_name-train-00072-of-00100\n",
      "/devfest/repos/name-suggestion/data-4k-10/programming_function_name-train-00073-of-00100\n",
      "/devfest/repos/name-suggestion/data-4k-10/programming_function_name-train-00074-of-00100\n",
      "/devfest/repos/name-suggestion/data-4k-10/programming_function_name-train-00075-of-00100\n",
      "/devfest/repos/name-suggestion/data-4k-10/programming_function_name-train-00076-of-00100\n",
      "/devfest/repos/name-suggestion/data-4k-10/programming_function_name-train-00077-of-00100\n",
      "/devfest/repos/name-suggestion/data-4k-10/programming_function_name-train-00078-of-00100\n",
      "/devfest/repos/name-suggestion/data-4k-10/programming_function_name-train-00079-of-00100\n",
      "/devfest/repos/name-suggestion/data-4k-10/programming_function_name-train-00080-of-00100\n",
      "/devfest/repos/name-suggestion/data-4k-10/programming_function_name-train-00081-of-00100\n",
      "/devfest/repos/name-suggestion/data-4k-10/programming_function_name-train-00082-of-00100\n",
      "/devfest/repos/name-suggestion/data-4k-10/programming_function_name-train-00083-of-00100\n",
      "/devfest/repos/name-suggestion/data-4k-10/programming_function_name-train-00084-of-00100\n",
      "/devfest/repos/name-suggestion/data-4k-10/programming_function_name-train-00085-of-00100\n",
      "/devfest/repos/name-suggestion/data-4k-10/programming_function_name-train-00086-of-00100\n",
      "/devfest/repos/name-suggestion/data-4k-10/programming_function_name-train-00087-of-00100\n",
      "/devfest/repos/name-suggestion/data-4k-10/programming_function_name-train-00088-of-00100\n",
      "/devfest/repos/name-suggestion/data-4k-10/programming_function_name-train-00089-of-00100\n",
      "/devfest/repos/name-suggestion/data-4k-10/programming_function_name-train-00090-of-00100\n",
      "/devfest/repos/name-suggestion/data-4k-10/programming_function_name-train-00091-of-00100\n",
      "/devfest/repos/name-suggestion/data-4k-10/programming_function_name-train-00092-of-00100\n",
      "/devfest/repos/name-suggestion/data-4k-10/programming_function_name-train-00093-of-00100\n",
      "/devfest/repos/name-suggestion/data-4k-10/programming_function_name-train-00094-of-00100\n",
      "/devfest/repos/name-suggestion/data-4k-10/programming_function_name-train-00095-of-00100\n",
      "/devfest/repos/name-suggestion/data-4k-10/programming_function_name-train-00096-of-00100\n",
      "/devfest/repos/name-suggestion/data-4k-10/programming_function_name-train-00097-of-00100\n",
      "/devfest/repos/name-suggestion/data-4k-10/programming_function_name-train-00098-of-00100\n",
      "/devfest/repos/name-suggestion/data-4k-10/programming_function_name-train-00099-of-00100\n",
      "/devfest/repos/name-suggestion/data-4k-10/vocab.programming_function_name.4096.subwords\n",
      "/devfest/repos/name-suggestion/data-8k-200\n",
      "/devfest/repos/name-suggestion/data-8k-200/programming_function_name-dev-00000-of-00001\n",
      "/devfest/repos/name-suggestion/data-8k-200/programming_function_name-train-00000-of-00100\n",
      "/devfest/repos/name-suggestion/data-8k-200/programming_function_name-train-00001-of-00100\n",
      "/devfest/repos/name-suggestion/data-8k-200/programming_function_name-train-00002-of-00100\n",
      "/devfest/repos/name-suggestion/data-8k-200/programming_function_name-train-00003-of-00100\n",
      "/devfest/repos/name-suggestion/data-8k-200/programming_function_name-train-00004-of-00100\n",
      "/devfest/repos/name-suggestion/data-8k-200/programming_function_name-train-00005-of-00100\n",
      "/devfest/repos/name-suggestion/data-8k-200/programming_function_name-train-00006-of-00100\n",
      "/devfest/repos/name-suggestion/data-8k-200/programming_function_name-train-00007-of-00100\n",
      "/devfest/repos/name-suggestion/data-8k-200/programming_function_name-train-00008-of-00100\n",
      "/devfest/repos/name-suggestion/data-8k-200/programming_function_name-train-00009-of-00100\n",
      "/devfest/repos/name-suggestion/data-8k-200/programming_function_name-train-00010-of-00100\n",
      "/devfest/repos/name-suggestion/data-8k-200/programming_function_name-train-00011-of-00100\n",
      "/devfest/repos/name-suggestion/data-8k-200/programming_function_name-train-00012-of-00100\n",
      "/devfest/repos/name-suggestion/data-8k-200/programming_function_name-train-00013-of-00100\n",
      "/devfest/repos/name-suggestion/data-8k-200/programming_function_name-train-00014-of-00100\n",
      "/devfest/repos/name-suggestion/data-8k-200/programming_function_name-train-00015-of-00100\n",
      "/devfest/repos/name-suggestion/data-8k-200/programming_function_name-train-00016-of-00100\n",
      "/devfest/repos/name-suggestion/data-8k-200/programming_function_name-train-00017-of-00100\n",
      "/devfest/repos/name-suggestion/data-8k-200/programming_function_name-train-00018-of-00100\n",
      "/devfest/repos/name-suggestion/data-8k-200/programming_function_name-train-00019-of-00100\n",
      "/devfest/repos/name-suggestion/data-8k-200/programming_function_name-train-00020-of-00100\n",
      "/devfest/repos/name-suggestion/data-8k-200/programming_function_name-train-00021-of-00100\n",
      "/devfest/repos/name-suggestion/data-8k-200/programming_function_name-train-00022-of-00100\n",
      "/devfest/repos/name-suggestion/data-8k-200/programming_function_name-train-00023-of-00100\n",
      "/devfest/repos/name-suggestion/data-8k-200/programming_function_name-train-00024-of-00100\n",
      "/devfest/repos/name-suggestion/data-8k-200/programming_function_name-train-00025-of-00100\n",
      "/devfest/repos/name-suggestion/data-8k-200/programming_function_name-train-00026-of-00100\n",
      "/devfest/repos/name-suggestion/data-8k-200/programming_function_name-train-00027-of-00100\n",
      "/devfest/repos/name-suggestion/data-8k-200/programming_function_name-train-00028-of-00100\n",
      "/devfest/repos/name-suggestion/data-8k-200/programming_function_name-train-00029-of-00100\n",
      "/devfest/repos/name-suggestion/data-8k-200/programming_function_name-train-00030-of-00100\n",
      "/devfest/repos/name-suggestion/data-8k-200/programming_function_name-train-00031-of-00100\n",
      "/devfest/repos/name-suggestion/data-8k-200/programming_function_name-train-00032-of-00100\n",
      "/devfest/repos/name-suggestion/data-8k-200/programming_function_name-train-00033-of-00100\n",
      "/devfest/repos/name-suggestion/data-8k-200/programming_function_name-train-00034-of-00100\n",
      "/devfest/repos/name-suggestion/data-8k-200/programming_function_name-train-00035-of-00100\n",
      "/devfest/repos/name-suggestion/data-8k-200/programming_function_name-train-00036-of-00100\n",
      "/devfest/repos/name-suggestion/data-8k-200/programming_function_name-train-00037-of-00100\n",
      "/devfest/repos/name-suggestion/data-8k-200/programming_function_name-train-00038-of-00100\n",
      "/devfest/repos/name-suggestion/data-8k-200/programming_function_name-train-00039-of-00100\n",
      "/devfest/repos/name-suggestion/data-8k-200/programming_function_name-train-00040-of-00100\n",
      "/devfest/repos/name-suggestion/data-8k-200/programming_function_name-train-00041-of-00100\n",
      "/devfest/repos/name-suggestion/data-8k-200/programming_function_name-train-00042-of-00100\n",
      "/devfest/repos/name-suggestion/data-8k-200/programming_function_name-train-00043-of-00100\n",
      "/devfest/repos/name-suggestion/data-8k-200/programming_function_name-train-00044-of-00100\n",
      "/devfest/repos/name-suggestion/data-8k-200/programming_function_name-train-00045-of-00100\n",
      "/devfest/repos/name-suggestion/data-8k-200/programming_function_name-train-00046-of-00100\n",
      "/devfest/repos/name-suggestion/data-8k-200/programming_function_name-train-00047-of-00100\n",
      "/devfest/repos/name-suggestion/data-8k-200/programming_function_name-train-00048-of-00100\n",
      "/devfest/repos/name-suggestion/data-8k-200/programming_function_name-train-00049-of-00100\n",
      "/devfest/repos/name-suggestion/data-8k-200/programming_function_name-train-00050-of-00100\n",
      "/devfest/repos/name-suggestion/data-8k-200/programming_function_name-train-00051-of-00100\n",
      "/devfest/repos/name-suggestion/data-8k-200/programming_function_name-train-00052-of-00100\n",
      "/devfest/repos/name-suggestion/data-8k-200/programming_function_name-train-00053-of-00100\n",
      "/devfest/repos/name-suggestion/data-8k-200/programming_function_name-train-00054-of-00100\n",
      "/devfest/repos/name-suggestion/data-8k-200/programming_function_name-train-00055-of-00100\n",
      "/devfest/repos/name-suggestion/data-8k-200/programming_function_name-train-00056-of-00100\n",
      "/devfest/repos/name-suggestion/data-8k-200/programming_function_name-train-00057-of-00100\n",
      "/devfest/repos/name-suggestion/data-8k-200/programming_function_name-train-00058-of-00100\n",
      "/devfest/repos/name-suggestion/data-8k-200/programming_function_name-train-00059-of-00100\n",
      "/devfest/repos/name-suggestion/data-8k-200/programming_function_name-train-00060-of-00100\n",
      "/devfest/repos/name-suggestion/data-8k-200/programming_function_name-train-00061-of-00100\n",
      "/devfest/repos/name-suggestion/data-8k-200/programming_function_name-train-00062-of-00100\n",
      "/devfest/repos/name-suggestion/data-8k-200/programming_function_name-train-00063-of-00100\n",
      "/devfest/repos/name-suggestion/data-8k-200/programming_function_name-train-00064-of-00100\n",
      "/devfest/repos/name-suggestion/data-8k-200/programming_function_name-train-00065-of-00100\n",
      "/devfest/repos/name-suggestion/data-8k-200/programming_function_name-train-00066-of-00100\n",
      "/devfest/repos/name-suggestion/data-8k-200/programming_function_name-train-00067-of-00100\n",
      "/devfest/repos/name-suggestion/data-8k-200/programming_function_name-train-00068-of-00100\n",
      "/devfest/repos/name-suggestion/data-8k-200/programming_function_name-train-00069-of-00100\n",
      "/devfest/repos/name-suggestion/data-8k-200/programming_function_name-train-00070-of-00100\n",
      "/devfest/repos/name-suggestion/data-8k-200/programming_function_name-train-00071-of-00100\n",
      "/devfest/repos/name-suggestion/data-8k-200/programming_function_name-train-00072-of-00100\n",
      "/devfest/repos/name-suggestion/data-8k-200/programming_function_name-train-00073-of-00100\n",
      "/devfest/repos/name-suggestion/data-8k-200/programming_function_name-train-00074-of-00100\n",
      "/devfest/repos/name-suggestion/data-8k-200/programming_function_name-train-00075-of-00100\n",
      "/devfest/repos/name-suggestion/data-8k-200/programming_function_name-train-00076-of-00100\n",
      "/devfest/repos/name-suggestion/data-8k-200/programming_function_name-train-00077-of-00100\n",
      "/devfest/repos/name-suggestion/data-8k-200/programming_function_name-train-00078-of-00100\n",
      "/devfest/repos/name-suggestion/data-8k-200/programming_function_name-train-00079-of-00100\n",
      "/devfest/repos/name-suggestion/data-8k-200/programming_function_name-train-00080-of-00100\n",
      "/devfest/repos/name-suggestion/data-8k-200/programming_function_name-train-00081-of-00100\n",
      "/devfest/repos/name-suggestion/data-8k-200/programming_function_name-train-00082-of-00100\n",
      "/devfest/repos/name-suggestion/data-8k-200/programming_function_name-train-00083-of-00100\n",
      "/devfest/repos/name-suggestion/data-8k-200/programming_function_name-train-00084-of-00100\n",
      "/devfest/repos/name-suggestion/data-8k-200/programming_function_name-train-00085-of-00100\n",
      "/devfest/repos/name-suggestion/data-8k-200/programming_function_name-train-00086-of-00100\n",
      "/devfest/repos/name-suggestion/data-8k-200/programming_function_name-train-00087-of-00100\n",
      "/devfest/repos/name-suggestion/data-8k-200/programming_function_name-train-00088-of-00100\n",
      "/devfest/repos/name-suggestion/data-8k-200/programming_function_name-train-00089-of-00100\n",
      "/devfest/repos/name-suggestion/data-8k-200/programming_function_name-train-00090-of-00100\n",
      "/devfest/repos/name-suggestion/data-8k-200/programming_function_name-train-00091-of-00100\n",
      "/devfest/repos/name-suggestion/data-8k-200/programming_function_name-train-00092-of-00100\n",
      "/devfest/repos/name-suggestion/data-8k-200/programming_function_name-train-00093-of-00100\n",
      "/devfest/repos/name-suggestion/data-8k-200/programming_function_name-train-00094-of-00100\n",
      "/devfest/repos/name-suggestion/data-8k-200/programming_function_name-train-00095-of-00100\n",
      "/devfest/repos/name-suggestion/data-8k-200/programming_function_name-train-00096-of-00100\n",
      "/devfest/repos/name-suggestion/data-8k-200/programming_function_name-train-00097-of-00100\n",
      "/devfest/repos/name-suggestion/data-8k-200/programming_function_name-train-00098-of-00100\n",
      "/devfest/repos/name-suggestion/data-8k-200/programming_function_name-train-00099-of-00100\n",
      "/devfest/repos/name-suggestion/data-8k-200/vocab.programming_function_name.8192.subwords\n",
      "/devfest/repos/name-suggestion/java-full\n",
      "/devfest/repos/name-suggestion/java-full/.DS_Store\n",
      "/devfest/repos/name-suggestion/java-full/bpe.model\n",
      "/devfest/repos/name-suggestion/java-full/bpe_input.txt\n",
      "/devfest/repos/name-suggestion/java-full/functions.jsonl.bz2\n",
      "/devfest/repos/name-suggestion/java-full/functions_identifers_names\n",
      "/devfest/repos/name-suggestion/java-full/functions_identifers_names.pkl.bz2\n",
      "/devfest/repos/name-suggestion/java-full/pretrained\n",
      "/devfest/repos/name-suggestion/java-full/pretrained/ckpt-25000.data-00000-of-00002\n",
      "/devfest/repos/name-suggestion/java-full/pretrained/ckpt-25000.data-00001-of-00002\n",
      "/devfest/repos/name-suggestion/java-full/pretrained/ckpt-25000.index\n",
      "/devfest/repos/name-suggestion/java-full/src.vocab\n",
      "/devfest/repos/name-suggestion/java-full/tgt.vocab\n",
      "/devfest/repos/name-suggestion/java-full/train.bpe.src\n",
      "/devfest/repos/name-suggestion/java-full/train.bpe.tgt\n",
      "/devfest/repos/name-suggestion/java-full/train.src\n",
      "/devfest/repos/name-suggestion/java-full/train.tgt\n",
      "/devfest/repos/name-suggestion/java-full/val.bpe.src\n",
      "/devfest/repos/name-suggestion/java-full/val.bpe.tgt\n",
      "/devfest/repos/name-suggestion/java-full/val.src\n",
      "/devfest/repos/name-suggestion/java-full/val.tgt\n",
      "/devfest/repos/name-suggestion/java-small\n",
      "/devfest/repos/name-suggestion/java-small/bpe.model\n",
      "/devfest/repos/name-suggestion/java-small/bpe_input.txt\n",
      "/devfest/repos/name-suggestion/java-small/functions.jsonl.bz2\n",
      "/devfest/repos/name-suggestion/java-small/functions_identifers_names.pkl.bz2\n",
      "/devfest/repos/name-suggestion/java-small/model\n",
      "/devfest/repos/name-suggestion/java-small/model/config.yml\n",
      "/devfest/repos/name-suggestion/java-small/model/run\n",
      "/devfest/repos/name-suggestion/java-small/model/run/checkpoint\n",
      "/devfest/repos/name-suggestion/java-small/model/run/ckpt-0.data-00000-of-00001\n",
      "/devfest/repos/name-suggestion/java-small/model/run/ckpt-0.index\n",
      "/devfest/repos/name-suggestion/java-small/model/run/eval\n",
      "/devfest/repos/name-suggestion/java-small/model/run/eval/events.out.tfevents.1571674207.49a315992d13.8210.333.v2\n",
      "/devfest/repos/name-suggestion/java-small/model/run/events.out.tfevents.1571674207.49a315992d13.8210.548.v2\n",
      "/devfest/repos/name-suggestion/java-small/model/run/model_description.py\n",
      "/devfest/repos/name-suggestion/java-small/model/run/model_examples_inputter_features_inputter_embedding.txt\n",
      "/devfest/repos/name-suggestion/java-small/model/run/projector_config.pbtxt\n",
      "/devfest/repos/name-suggestion/java-small/sample_val.bpe.src\n",
      "/devfest/repos/name-suggestion/java-small/sample_val.bpe.tgt\n",
      "/devfest/repos/name-suggestion/java-small/src.vocab\n",
      "/devfest/repos/name-suggestion/java-small/tgt.vocab\n",
      "/devfest/repos/name-suggestion/java-small/train.bpe.src\n",
      "/devfest/repos/name-suggestion/java-small/train.bpe.tgt\n",
      "/devfest/repos/name-suggestion/java-small/train.src\n",
      "/devfest/repos/name-suggestion/java-small/train.tgt\n",
      "/devfest/repos/name-suggestion/java-small/val.bpe.pred.tgt\n",
      "/devfest/repos/name-suggestion/java-small/val.bpe.src\n",
      "/devfest/repos/name-suggestion/java-small/val.bpe.tgt\n",
      "/devfest/repos/name-suggestion/java-small/val.src\n",
      "/devfest/repos/name-suggestion/java-small/val.tgt\n",
      "/devfest/repos/name-suggestion/tmp\n"
     ]
    },
    {
     "name": "stdout",
     "output_type": "stream",
     "text": [
      "/devfest/repos/name-suggestion/tmp/java\r\n",
      "/devfest/repos/name-suggestion/tmp/java/final\r\n",
      "/devfest/repos/name-suggestion/tmp/java/final/jsonl\r\n",
      "/devfest/repos/name-suggestion/tmp/java/final/jsonl/test\r\n",
      "/devfest/repos/name-suggestion/tmp/java/final/jsonl/test/java_test_0.jsonl.gz\r\n",
      "/devfest/repos/name-suggestion/tmp/java/final/jsonl/train\r\n",
      "/devfest/repos/name-suggestion/tmp/java/final/jsonl/train/java_train_0.jsonl.gz\r\n",
      "/devfest/repos/name-suggestion/tmp/java/final/jsonl/train/java_train_1.jsonl.gz\r\n",
      "/devfest/repos/name-suggestion/tmp/java/final/jsonl/train/java_train_10.jsonl.gz\r\n",
      "/devfest/repos/name-suggestion/tmp/java/final/jsonl/train/java_train_11.jsonl.gz\r\n",
      "/devfest/repos/name-suggestion/tmp/java/final/jsonl/train/java_train_12.jsonl.gz\r\n",
      "/devfest/repos/name-suggestion/tmp/java/final/jsonl/train/java_train_13.jsonl.gz\r\n",
      "/devfest/repos/name-suggestion/tmp/java/final/jsonl/train/java_train_14.jsonl.gz\r\n",
      "/devfest/repos/name-suggestion/tmp/java/final/jsonl/train/java_train_15.jsonl.gz\r\n",
      "/devfest/repos/name-suggestion/tmp/java/final/jsonl/train/java_train_2.jsonl.gz\r\n",
      "/devfest/repos/name-suggestion/tmp/java/final/jsonl/train/java_train_3.jsonl.gz\r\n",
      "/devfest/repos/name-suggestion/tmp/java/final/jsonl/train/java_train_4.jsonl.gz\r\n",
      "/devfest/repos/name-suggestion/tmp/java/final/jsonl/train/java_train_5.jsonl.gz\r\n",
      "/devfest/repos/name-suggestion/tmp/java/final/jsonl/train/java_train_6.jsonl.gz\r\n",
      "/devfest/repos/name-suggestion/tmp/java/final/jsonl/train/java_train_7.jsonl.gz\r\n",
      "/devfest/repos/name-suggestion/tmp/java/final/jsonl/train/java_train_8.jsonl.gz\r\n",
      "/devfest/repos/name-suggestion/tmp/java/final/jsonl/train/java_train_9.jsonl.gz\r\n",
      "/devfest/repos/name-suggestion/tmp/java/final/jsonl/valid\r\n",
      "/devfest/repos/name-suggestion/tmp/java/final/jsonl/valid/java_valid_0.jsonl.gz\r\n",
      "/devfest/repos/name-suggestion/tmp/java.zip\r\n",
      "/devfest/repos/name-suggestion/tmp/java_licenses.pkl\r\n"
     ]
    }
   ],
   "source": [
    "! find \"/devfest/repos/name-suggestion\""
   ]
  },
  {
   "cell_type": "markdown",
   "metadata": {
    "heading_collapsed": true
   },
   "source": [
    "## Data: generate tensor representation"
   ]
  },
  {
   "cell_type": "code",
   "execution_count": 3,
   "metadata": {
    "ExecuteTime": {
     "end_time": "2019-10-30T12:51:44.392968Z",
     "start_time": "2019-10-30T12:51:43.107915Z"
    },
    "hidden": true
   },
   "outputs": [
    {
     "name": "stdout",
     "output_type": "stream",
     "text": [
      "WARNING:tensorflow:Failed to load tensor2tensor\n",
      "WARNING:tensorflow:From /usr/local/lib/python3.6/dist-packages/tensor2tensor/models/research/neural_stack.py:51: The name tf.nn.rnn_cell.RNNCell is deprecated. Please use tf.compat.v1.nn.rnn_cell.RNNCell instead.\n",
      "\n",
      "WARNING:tensorflow:From /usr/local/lib/python3.6/dist-packages/tensorflow_gan/python/estimator/tpu_gan_estimator.py:42: The name tf.estimator.tpu.TPUEstimator is deprecated. Please use tf.compat.v1.estimator.tpu.TPUEstimator instead.\n",
      "\n"
     ]
    },
    {
     "name": "stderr",
     "output_type": "stream",
     "text": [
      "WARNING:tensorflow:From /usr/local/lib/python3.6/dist-packages/tensorflow_gan/python/estimator/tpu_gan_estimator.py:42: The name tf.estimator.tpu.TPUEstimator is deprecated. Please use tf.compat.v1.estimator.tpu.TPUEstimator instead.\n",
      "\n"
     ]
    }
   ],
   "source": [
    "TMP_DIR=\"/devfest/repos/name-suggestion/tmp\"\n",
    "DATA_DIR=\"/devfest/repos/name-suggestion/data/identifiers\"\n",
    "\n",
    "# preprocess\n",
    "PROBLEM = \"programming_function_name_identifiers\"\n",
    "\n",
    "from tensor2tensor import models\n",
    "from tensor2tensor import problems\n",
    "\n",
    "t2t_problem = problems.problem(PROBLEM)"
   ]
  },
  {
   "cell_type": "code",
   "execution_count": 4,
   "metadata": {
    "ExecuteTime": {
     "end_time": "2019-10-30T12:51:46.525548Z",
     "start_time": "2019-10-30T12:51:45.573673Z"
    },
    "hidden": true
   },
   "outputs": [
    {
     "name": "stdout",
     "output_type": "stream",
     "text": [
      "WARNING:tensorflow:From /usr/local/lib/python3.6/dist-packages/tensor2tensor/data_generators/generator_utils.py:347: The name tf.gfile.Exists is deprecated. Please use tf.io.gfile.exists instead.\n",
      "\n"
     ]
    },
    {
     "name": "stderr",
     "output_type": "stream",
     "text": [
      "WARNING:tensorflow:From /usr/local/lib/python3.6/dist-packages/tensor2tensor/data_generators/generator_utils.py:347: The name tf.gfile.Exists is deprecated. Please use tf.io.gfile.exists instead.\n",
      "\n"
     ]
    },
    {
     "name": "stdout",
     "output_type": "stream",
     "text": [
      "WARNING:tensorflow:From /usr/local/lib/python3.6/dist-packages/tensor2tensor/data_generators/generator_utils.py:353: The name tf.logging.info is deprecated. Please use tf.compat.v1.logging.info instead.\n",
      "\n"
     ]
    },
    {
     "name": "stderr",
     "output_type": "stream",
     "text": [
      "WARNING:tensorflow:From /usr/local/lib/python3.6/dist-packages/tensor2tensor/data_generators/generator_utils.py:353: The name tf.logging.info is deprecated. Please use tf.compat.v1.logging.info instead.\n",
      "\n"
     ]
    },
    {
     "name": "stdout",
     "output_type": "stream",
     "text": [
      "INFO:tensorflow:Generating vocab file: /devfest/repos/name-suggestion/data/identifiers/vocab.programming_function_name_identifiers.4096.subwords\n"
     ]
    },
    {
     "name": "stderr",
     "output_type": "stream",
     "text": [
      "INFO:tensorflow:Generating vocab file: /devfest/repos/name-suggestion/data/identifiers/vocab.programming_function_name_identifiers.4096.subwords\n"
     ]
    },
    {
     "name": "stdout",
     "output_type": "stream",
     "text": [
      "WARNING:tensorflow:From /usr/local/lib/python3.6/dist-packages/tensor2tensor/data_generators/generator_utils.py:230: The name tf.gfile.MakeDirs is deprecated. Please use tf.io.gfile.makedirs instead.\n",
      "\n"
     ]
    },
    {
     "name": "stderr",
     "output_type": "stream",
     "text": [
      "WARNING:tensorflow:From /usr/local/lib/python3.6/dist-packages/tensor2tensor/data_generators/generator_utils.py:230: The name tf.gfile.MakeDirs is deprecated. Please use tf.io.gfile.makedirs instead.\n",
      "\n"
     ]
    },
    {
     "name": "stdout",
     "output_type": "stream",
     "text": [
      "INFO:tensorflow:Not downloading, file already found: /devfest/repos/name-suggestion/tmp/java.zip\n"
     ]
    },
    {
     "name": "stderr",
     "output_type": "stream",
     "text": [
      "INFO:tensorflow:Not downloading, file already found: /devfest/repos/name-suggestion/tmp/java.zip\n"
     ]
    },
    {
     "name": "stdout",
     "output_type": "stream",
     "text": [
      "INFO:tensorflow:Not decompressing /devfest/repos/name-suggestion/tmp/java.zip, /devfest/repos/name-suggestion/tmp/java found\n"
     ]
    },
    {
     "name": "stderr",
     "output_type": "stream",
     "text": [
      "INFO:tensorflow:Not decompressing /devfest/repos/name-suggestion/tmp/java.zip, /devfest/repos/name-suggestion/tmp/java found\n"
     ]
    },
    {
     "name": "stdout",
     "output_type": "stream",
     "text": [
      "INFO:tensorflow:Reading /devfest/repos/name-suggestion/tmp/java/final/jsonl/train/java_train_0.jsonl.gz\n"
     ]
    },
    {
     "name": "stderr",
     "output_type": "stream",
     "text": [
      "INFO:tensorflow:Reading /devfest/repos/name-suggestion/tmp/java/final/jsonl/train/java_train_0.jsonl.gz\n"
     ]
    },
    {
     "ename": "TypeError",
     "evalue": "'bool' object is not callable",
     "output_type": "error",
     "traceback": [
      "\u001b[0;31m---------------------------------------------------------------------------\u001b[0m",
      "\u001b[0;31mTypeError\u001b[0m                                 Traceback (most recent call last)",
      "\u001b[0;32m<ipython-input-4-c1b5d9c269ae>\u001b[0m in \u001b[0;36m<module>\u001b[0;34m\u001b[0m\n\u001b[0;32m----> 1\u001b[0;31m \u001b[0mt2t_problem\u001b[0m\u001b[0;34m.\u001b[0m\u001b[0mgenerate_data\u001b[0m\u001b[0;34m(\u001b[0m\u001b[0mDATA_DIR\u001b[0m\u001b[0;34m,\u001b[0m \u001b[0mTMP_DIR\u001b[0m\u001b[0;34m)\u001b[0m\u001b[0;34m\u001b[0m\u001b[0;34m\u001b[0m\u001b[0m\n\u001b[0m",
      "\u001b[0;32m/usr/local/lib/python3.6/dist-packages/tensor2tensor/data_generators/text_problems.py\u001b[0m in \u001b[0;36mgenerate_data\u001b[0;34m(self, data_dir, tmp_dir, task_id)\u001b[0m\n\u001b[1;32m    360\u001b[0m       \u001b[0;32mfor\u001b[0m \u001b[0msplit\u001b[0m\u001b[0;34m,\u001b[0m \u001b[0mpaths\u001b[0m \u001b[0;32min\u001b[0m \u001b[0msplit_paths\u001b[0m\u001b[0;34m:\u001b[0m\u001b[0;34m\u001b[0m\u001b[0;34m\u001b[0m\u001b[0m\n\u001b[1;32m    361\u001b[0m         generator_utils.generate_files(\n\u001b[0;32m--> 362\u001b[0;31m             self.generate_encoded_samples(data_dir, tmp_dir, split), paths)\n\u001b[0m\u001b[1;32m    363\u001b[0m     \u001b[0;32melse\u001b[0m\u001b[0;34m:\u001b[0m\u001b[0;34m\u001b[0m\u001b[0;34m\u001b[0m\u001b[0m\n\u001b[1;32m    364\u001b[0m       generator_utils.generate_files(\n",
      "\u001b[0;32m/usr/local/lib/python3.6/dist-packages/tensor2tensor/data_generators/text_problems.py\u001b[0m in \u001b[0;36mgenerate_encoded_samples\u001b[0;34m(self, data_dir, tmp_dir, dataset_split)\u001b[0m\n\u001b[1;32m    306\u001b[0m \u001b[0;34m\u001b[0m\u001b[0m\n\u001b[1;32m    307\u001b[0m     \u001b[0mgenerator\u001b[0m \u001b[0;34m=\u001b[0m \u001b[0mself\u001b[0m\u001b[0;34m.\u001b[0m\u001b[0mgenerate_samples\u001b[0m\u001b[0;34m(\u001b[0m\u001b[0mdata_dir\u001b[0m\u001b[0;34m,\u001b[0m \u001b[0mtmp_dir\u001b[0m\u001b[0;34m,\u001b[0m \u001b[0mdataset_split\u001b[0m\u001b[0;34m)\u001b[0m\u001b[0;34m\u001b[0m\u001b[0;34m\u001b[0m\u001b[0m\n\u001b[0;32m--> 308\u001b[0;31m     \u001b[0mencoder\u001b[0m \u001b[0;34m=\u001b[0m \u001b[0mself\u001b[0m\u001b[0;34m.\u001b[0m\u001b[0mget_or_create_vocab\u001b[0m\u001b[0;34m(\u001b[0m\u001b[0mdata_dir\u001b[0m\u001b[0;34m,\u001b[0m \u001b[0mtmp_dir\u001b[0m\u001b[0;34m)\u001b[0m\u001b[0;34m\u001b[0m\u001b[0;34m\u001b[0m\u001b[0m\n\u001b[0m\u001b[1;32m    309\u001b[0m     return text2text_generate_encoded(generator, encoder,\n\u001b[1;32m    310\u001b[0m                                       \u001b[0mhas_inputs\u001b[0m\u001b[0;34m=\u001b[0m\u001b[0mself\u001b[0m\u001b[0;34m.\u001b[0m\u001b[0mhas_inputs\u001b[0m\u001b[0;34m,\u001b[0m\u001b[0;34m\u001b[0m\u001b[0;34m\u001b[0m\u001b[0m\n",
      "\u001b[0;32m/usr/local/lib/python3.6/dist-packages/tensor2tensor/data_generators/text_problems.py\u001b[0m in \u001b[0;36mget_or_create_vocab\u001b[0;34m(self, data_dir, tmp_dir, force_get)\u001b[0m\n\u001b[1;32m    252\u001b[0m             \u001b[0mmax_subtoken_length\u001b[0m\u001b[0;34m=\u001b[0m\u001b[0mself\u001b[0m\u001b[0;34m.\u001b[0m\u001b[0mmax_subtoken_length\u001b[0m\u001b[0;34m,\u001b[0m\u001b[0;34m\u001b[0m\u001b[0;34m\u001b[0m\u001b[0m\n\u001b[1;32m    253\u001b[0m             reserved_tokens=(\n\u001b[0;32m--> 254\u001b[0;31m                 text_encoder.RESERVED_TOKENS + self.additional_reserved_tokens))\n\u001b[0m\u001b[1;32m    255\u001b[0m     \u001b[0;32melif\u001b[0m \u001b[0mself\u001b[0m\u001b[0;34m.\u001b[0m\u001b[0mvocab_type\u001b[0m \u001b[0;34m==\u001b[0m \u001b[0mVocabType\u001b[0m\u001b[0;34m.\u001b[0m\u001b[0mTOKEN\u001b[0m\u001b[0;34m:\u001b[0m\u001b[0;34m\u001b[0m\u001b[0;34m\u001b[0m\u001b[0m\n\u001b[1;32m    256\u001b[0m       \u001b[0mvocab_filename\u001b[0m \u001b[0;34m=\u001b[0m \u001b[0mos\u001b[0m\u001b[0;34m.\u001b[0m\u001b[0mpath\u001b[0m\u001b[0;34m.\u001b[0m\u001b[0mjoin\u001b[0m\u001b[0;34m(\u001b[0m\u001b[0mdata_dir\u001b[0m\u001b[0;34m,\u001b[0m \u001b[0mself\u001b[0m\u001b[0;34m.\u001b[0m\u001b[0mvocab_filename\u001b[0m\u001b[0;34m)\u001b[0m\u001b[0;34m\u001b[0m\u001b[0;34m\u001b[0m\u001b[0m\n",
      "\u001b[0;32m/usr/local/lib/python3.6/dist-packages/tensor2tensor/data_generators/generator_utils.py\u001b[0m in \u001b[0;36mget_or_generate_vocab_inner\u001b[0;34m(data_dir, vocab_filename, vocab_size, generator, max_subtoken_length, reserved_tokens)\u001b[0m\n\u001b[1;32m    354\u001b[0m   vocab = text_encoder.SubwordTextEncoder.build_from_generator(\n\u001b[1;32m    355\u001b[0m       \u001b[0mgenerator\u001b[0m\u001b[0;34m,\u001b[0m \u001b[0mvocab_size\u001b[0m\u001b[0;34m,\u001b[0m \u001b[0mmax_subtoken_length\u001b[0m\u001b[0;34m=\u001b[0m\u001b[0mmax_subtoken_length\u001b[0m\u001b[0;34m,\u001b[0m\u001b[0;34m\u001b[0m\u001b[0;34m\u001b[0m\u001b[0m\n\u001b[0;32m--> 356\u001b[0;31m       reserved_tokens=reserved_tokens)\n\u001b[0m\u001b[1;32m    357\u001b[0m \u001b[0;34m\u001b[0m\u001b[0m\n\u001b[1;32m    358\u001b[0m   \u001b[0;32mif\u001b[0m \u001b[0mvocab_filepath\u001b[0m\u001b[0;34m:\u001b[0m\u001b[0;34m\u001b[0m\u001b[0;34m\u001b[0m\u001b[0m\n",
      "\u001b[0;32m/usr/local/lib/python3.6/dist-packages/tensor2tensor/data_generators/text_encoder.py\u001b[0m in \u001b[0;36mbuild_from_generator\u001b[0;34m(cls, generator, target_size, max_subtoken_length, reserved_tokens)\u001b[0m\n\u001b[1;32m    665\u001b[0m     \"\"\"\n\u001b[1;32m    666\u001b[0m     \u001b[0mtoken_counts\u001b[0m \u001b[0;34m=\u001b[0m \u001b[0mcollections\u001b[0m\u001b[0;34m.\u001b[0m\u001b[0mdefaultdict\u001b[0m\u001b[0;34m(\u001b[0m\u001b[0mint\u001b[0m\u001b[0;34m)\u001b[0m\u001b[0;34m\u001b[0m\u001b[0;34m\u001b[0m\u001b[0m\n\u001b[0;32m--> 667\u001b[0;31m     \u001b[0;32mfor\u001b[0m \u001b[0mitem\u001b[0m \u001b[0;32min\u001b[0m \u001b[0mgenerator\u001b[0m\u001b[0;34m:\u001b[0m\u001b[0;34m\u001b[0m\u001b[0;34m\u001b[0m\u001b[0m\n\u001b[0m\u001b[1;32m    668\u001b[0m       \u001b[0;32mfor\u001b[0m \u001b[0mtok\u001b[0m \u001b[0;32min\u001b[0m \u001b[0mtokenizer\u001b[0m\u001b[0;34m.\u001b[0m\u001b[0mencode\u001b[0m\u001b[0;34m(\u001b[0m\u001b[0mnative_to_unicode\u001b[0m\u001b[0;34m(\u001b[0m\u001b[0mitem\u001b[0m\u001b[0;34m)\u001b[0m\u001b[0;34m)\u001b[0m\u001b[0;34m:\u001b[0m\u001b[0;34m\u001b[0m\u001b[0;34m\u001b[0m\u001b[0m\n\u001b[1;32m    669\u001b[0m         \u001b[0mtoken_counts\u001b[0m\u001b[0;34m[\u001b[0m\u001b[0mtok\u001b[0m\u001b[0;34m]\u001b[0m \u001b[0;34m+=\u001b[0m \u001b[0;36m1\u001b[0m\u001b[0;34m\u001b[0m\u001b[0;34m\u001b[0m\u001b[0m\n",
      "\u001b[0;32m/usr/local/lib/python3.6/dist-packages/tensor2tensor/data_generators/text_problems.py\u001b[0m in \u001b[0;36mgenerate_text_for_vocab\u001b[0;34m(self, data_dir, tmp_dir)\u001b[0m\n\u001b[1;32m    205\u001b[0m   \u001b[0;32mdef\u001b[0m \u001b[0mgenerate_text_for_vocab\u001b[0m\u001b[0;34m(\u001b[0m\u001b[0mself\u001b[0m\u001b[0;34m,\u001b[0m \u001b[0mdata_dir\u001b[0m\u001b[0;34m,\u001b[0m \u001b[0mtmp_dir\u001b[0m\u001b[0;34m)\u001b[0m\u001b[0;34m:\u001b[0m\u001b[0;34m\u001b[0m\u001b[0;34m\u001b[0m\u001b[0m\n\u001b[1;32m    206\u001b[0m     for i, sample in enumerate(\n\u001b[0;32m--> 207\u001b[0;31m         self.generate_samples(data_dir, tmp_dir, problem.DatasetSplit.TRAIN)):\n\u001b[0m\u001b[1;32m    208\u001b[0m       \u001b[0;32mif\u001b[0m \u001b[0mself\u001b[0m\u001b[0;34m.\u001b[0m\u001b[0mhas_inputs\u001b[0m\u001b[0;34m:\u001b[0m\u001b[0;34m\u001b[0m\u001b[0;34m\u001b[0m\u001b[0m\n\u001b[1;32m    209\u001b[0m         \u001b[0;32myield\u001b[0m \u001b[0msample\u001b[0m\u001b[0;34m[\u001b[0m\u001b[0;34m\"inputs\"\u001b[0m\u001b[0;34m]\u001b[0m\u001b[0;34m\u001b[0m\u001b[0;34m\u001b[0m\u001b[0m\n",
      "\u001b[0;32m<ipython-input-2-2ebf5762e66d>\u001b[0m in \u001b[0;36mgenerate_samples\u001b[0;34m(***failed resolving arguments***)\u001b[0m\n\u001b[1;32m    107\u001b[0m           \u001b[0mcode\u001b[0m \u001b[0;34m=\u001b[0m \u001b[0mrow\u001b[0m\u001b[0;34m[\u001b[0m\u001b[0;34m\"code\"\u001b[0m\u001b[0;34m]\u001b[0m\u001b[0;34m\u001b[0m\u001b[0;34m\u001b[0m\u001b[0m\n\u001b[1;32m    108\u001b[0m           \u001b[0;31m# func_body = code - func_name\u001b[0m\u001b[0;34m\u001b[0m\u001b[0;34m\u001b[0m\u001b[0;34m\u001b[0m\u001b[0m\n\u001b[0;32m--> 109\u001b[0;31m           \u001b[0;32mif\u001b[0m \u001b[0mself\u001b[0m\u001b[0;34m.\u001b[0m\u001b[0muse_identifiers\u001b[0m\u001b[0;34m(\u001b[0m\u001b[0;34m)\u001b[0m\u001b[0;34m:\u001b[0m\u001b[0;34m\u001b[0m\u001b[0;34m\u001b[0m\u001b[0m\n\u001b[0m\u001b[1;32m    110\u001b[0m             \u001b[0;31m# FIXME(bzz): too java-specific! no fn signature!\u001b[0m\u001b[0;34m\u001b[0m\u001b[0;34m\u001b[0m\u001b[0;34m\u001b[0m\u001b[0m\n\u001b[1;32m    111\u001b[0m             \u001b[0mcode\u001b[0m \u001b[0;34m=\u001b[0m \u001b[0;34m\"class TestClass {\\n{}\\n}\"\u001b[0m\u001b[0;34m.\u001b[0m\u001b[0mformat\u001b[0m\u001b[0;34m(\u001b[0m\u001b[0mrow\u001b[0m\u001b[0;34m[\u001b[0m\u001b[0;34m\"code\"\u001b[0m\u001b[0;34m]\u001b[0m\u001b[0;34m)\u001b[0m\u001b[0;34m\u001b[0m\u001b[0;34m\u001b[0m\u001b[0m\n",
      "\u001b[0;31mTypeError\u001b[0m: 'bool' object is not callable"
     ]
    }
   ],
   "source": [
    "t2t_problem.generate_data(DATA_DIR, TMP_DIR)"
   ]
  },
  {
   "cell_type": "markdown",
   "metadata": {
    "heading_collapsed": true
   },
   "source": [
    "## Data: inspect"
   ]
  },
  {
   "cell_type": "code",
   "execution_count": 4,
   "metadata": {
    "ExecuteTime": {
     "end_time": "2019-10-27T22:32:39.135132Z",
     "start_time": "2019-10-27T22:32:38.824800Z"
    },
    "hidden": true
   },
   "outputs": [
    {
     "name": "stdout",
     "output_type": "stream",
     "text": [
      "WARNING:tensorflow:From /usr/local/lib/python3.6/dist-packages/tensor2tensor/data_generators/text_encoder.py:938: The name tf.gfile.Exists is deprecated. Please use tf.io.gfile.exists instead.\n",
      "\n"
     ]
    },
    {
     "name": "stderr",
     "output_type": "stream",
     "text": [
      "WARNING:tensorflow:From /usr/local/lib/python3.6/dist-packages/tensor2tensor/data_generators/text_encoder.py:938: The name tf.gfile.Exists is deprecated. Please use tf.io.gfile.exists instead.\n",
      "\n"
     ]
    },
    {
     "name": "stdout",
     "output_type": "stream",
     "text": [
      "WARNING:tensorflow:From /usr/local/lib/python3.6/dist-packages/tensor2tensor/data_generators/text_encoder.py:940: The name tf.gfile.Open is deprecated. Please use tf.io.gfile.GFile instead.\n",
      "\n"
     ]
    },
    {
     "name": "stderr",
     "output_type": "stream",
     "text": [
      "WARNING:tensorflow:From /usr/local/lib/python3.6/dist-packages/tensor2tensor/data_generators/text_encoder.py:940: The name tf.gfile.Open is deprecated. Please use tf.io.gfile.GFile instead.\n",
      "\n"
     ]
    },
    {
     "name": "stdout",
     "output_type": "stream",
     "text": [
      "WARNING:tensorflow:From /usr/local/lib/python3.6/dist-packages/tensor2tensor/data_generators/problem.py:644: The name tf.logging.info is deprecated. Please use tf.compat.v1.logging.info instead.\n",
      "\n"
     ]
    },
    {
     "name": "stderr",
     "output_type": "stream",
     "text": [
      "WARNING:tensorflow:From /usr/local/lib/python3.6/dist-packages/tensor2tensor/data_generators/problem.py:644: The name tf.logging.info is deprecated. Please use tf.compat.v1.logging.info instead.\n",
      "\n"
     ]
    },
    {
     "name": "stdout",
     "output_type": "stream",
     "text": [
      "INFO:tensorflow:Reading data files from /devfest/repos/name-suggestion/data/programming_function_name-dev*\n"
     ]
    },
    {
     "name": "stderr",
     "output_type": "stream",
     "text": [
      "INFO:tensorflow:Reading data files from /devfest/repos/name-suggestion/data/programming_function_name-dev*\n"
     ]
    },
    {
     "name": "stdout",
     "output_type": "stream",
     "text": [
      "INFO:tensorflow:partition: 0 num_data_files: 1\n"
     ]
    },
    {
     "name": "stderr",
     "output_type": "stream",
     "text": [
      "INFO:tensorflow:partition: 0 num_data_files: 1\n"
     ]
    },
    {
     "name": "stdout",
     "output_type": "stream",
     "text": [
      "WARNING:tensorflow:From /usr/local/lib/python3.6/dist-packages/tensor2tensor/data_generators/text_problems.py:394: The name tf.VarLenFeature is deprecated. Please use tf.io.VarLenFeature instead.\n",
      "\n"
     ]
    },
    {
     "name": "stderr",
     "output_type": "stream",
     "text": [
      "WARNING:tensorflow:From /usr/local/lib/python3.6/dist-packages/tensor2tensor/data_generators/text_problems.py:394: The name tf.VarLenFeature is deprecated. Please use tf.io.VarLenFeature instead.\n",
      "\n"
     ]
    },
    {
     "name": "stdout",
     "output_type": "stream",
     "text": [
      "WARNING:tensorflow:From /usr/local/lib/python3.6/dist-packages/tensor2tensor/data_generators/problem.py:705: The name tf.FixedLenFeature is deprecated. Please use tf.io.FixedLenFeature instead.\n",
      "\n"
     ]
    },
    {
     "name": "stderr",
     "output_type": "stream",
     "text": [
      "WARNING:tensorflow:From /usr/local/lib/python3.6/dist-packages/tensor2tensor/data_generators/problem.py:705: The name tf.FixedLenFeature is deprecated. Please use tf.io.FixedLenFeature instead.\n",
      "\n"
     ]
    },
    {
     "name": "stdout",
     "output_type": "stream",
     "text": [
      "Tensor Input: tf.Tensor(\n",
      "[  62   88    5    3   10    9 3173  766 6580  800   41   68    5   39\n",
      " 6444    3    4   14 5249 1046  517    4 6444    3    2 1862    3    4\n",
      " 1531 4678    5   25   12   13   29    1], shape=(36,), dtype=int64)\n",
      "Tensor Target: tf.Tensor([1862    3    1], shape=(3,), dtype=int64)\n"
     ]
    }
   ],
   "source": [
    "tfe = tf.contrib.eager\n",
    "\n",
    "Modes = tf.estimator.ModeKeys\n",
    "\n",
    "# We can iterate over our examples by making an iterator and calling next on it.\n",
    "eager_iterator = tfe.Iterator(t2t_problem.dataset(Modes.EVAL, DATA_DIR))\n",
    "example = eager_iterator.next()\n",
    "\n",
    "input_tensor = example[\"inputs\"]\n",
    "target_tensor = example[\"targets\"]\n",
    "\n",
    "# The tensors are actually encoded using the generated vocabulary file -- you\n",
    "# can inspect the actual vocab file in DATA_DIR.\n",
    "print(\"Tensor Input: \" + str(input_tensor))\n",
    "print(\"Tensor Target: \" + str(target_tensor))"
   ]
  },
  {
   "cell_type": "code",
   "execution_count": 23,
   "metadata": {
    "ExecuteTime": {
     "end_time": "2019-10-27T22:53:30.790633Z",
     "start_time": "2019-10-27T22:52:42.082516Z"
    },
    "hidden": true
   },
   "outputs": [
    {
     "name": "stdout",
     "output_type": "stream",
     "text": [
      "INFO:tensorflow:Reading data files from /devfest/repos/name-suggestion/data/programming_function_name-dev*\n"
     ]
    },
    {
     "name": "stderr",
     "output_type": "stream",
     "text": [
      "INFO:tensorflow:Reading data files from /devfest/repos/name-suggestion/data/programming_function_name-dev*\n"
     ]
    },
    {
     "name": "stdout",
     "output_type": "stream",
     "text": [
      "INFO:tensorflow:partition: 0 num_data_files: 1\n"
     ]
    },
    {
     "name": "stderr",
     "output_type": "stream",
     "text": [
      "INFO:tensorflow:partition: 0 num_data_files: 1\n"
     ]
    }
   ],
   "source": [
    "len_stat = t2t_problem.dataset(Modes.EVAL, DATA_DIR).map(lambda x: tf.shape(x[\"inputs\"]))\n",
    "df = pd.DataFrame({'len'})\n",
    "for elem in len_stat:\n",
    "    df = df.append({'len': elem.numpy()[0]}, ignore_index=True)"
   ]
  },
  {
   "cell_type": "code",
   "execution_count": 42,
   "metadata": {
    "ExecuteTime": {
     "end_time": "2019-10-27T23:03:24.214932Z",
     "start_time": "2019-10-27T23:03:23.220779Z"
    },
    "hidden": true
   },
   "outputs": [
    {
     "data": {
      "text/plain": [
       "<matplotlib.axes._subplots.AxesSubplot at 0x7fef12eb46a0>"
      ]
     },
     "execution_count": 42,
     "metadata": {},
     "output_type": "execute_result"
    },
    {
     "data": {
      "image/png": "[encoded data removed]",
      "text/plain": [
       "<Figure size 432x288 with 1 Axes>"
      ]
     },
     "metadata": {
      "needs_background": "light"
     },
     "output_type": "display_data"
    }
   ],
   "source": [
    "df.plot.hist(by='len', bins=120, log=True)"
   ]
  },
  {
   "cell_type": "code",
   "execution_count": 18,
   "metadata": {
    "ExecuteTime": {
     "end_time": "2019-10-27T22:45:45.816647Z",
     "start_time": "2019-10-27T22:42:50.506549Z"
    },
    "hidden": true
   },
   "outputs": [
    {
     "name": "stdout",
     "output_type": "stream",
     "text": [
      "INFO:tensorflow:Reading data files from /devfest/repos/name-suggestion/data/programming_function_name-train*\n"
     ]
    },
    {
     "name": "stderr",
     "output_type": "stream",
     "text": [
      "INFO:tensorflow:Reading data files from /devfest/repos/name-suggestion/data/programming_function_name-train*\n"
     ]
    },
    {
     "name": "stdout",
     "output_type": "stream",
     "text": [
      "INFO:tensorflow:partition: 0 num_data_files: 10\n"
     ]
    },
    {
     "name": "stderr",
     "output_type": "stream",
     "text": [
      "INFO:tensorflow:partition: 0 num_data_files: 10\n"
     ]
    }
   ],
   "source": [
    "len_stat = t2t_problem.dataset(Modes.TRAIN, DATA_DIR).map(lambda x: tf.shape(x[\"inputs\"])).padded_batch(10, padded_shapes=(1,))\n",
    "train_df = pd.DataFrame() # {'len'}\n",
    "\n",
    "for elem in len_stat:\n",
    "    train_df = pd.concat([train_df, pd.DataFrame(elem.numpy()[0])], sort=False, copy=False, ignore_index=True)\n",
    "    #print(elem.numpy())"
   ]
  },
  {
   "cell_type": "code",
   "execution_count": 39,
   "metadata": {
    "ExecuteTime": {
     "end_time": "2019-10-27T23:02:31.560887Z",
     "start_time": "2019-10-27T23:02:30.667784Z"
    },
    "hidden": true
   },
   "outputs": [
    {
     "data": {
      "text/plain": [
       "array([[<matplotlib.axes._subplots.AxesSubplot object at 0x7fef13285518>]],\n",
       "      dtype=object)"
      ]
     },
     "execution_count": 39,
     "metadata": {},
     "output_type": "execute_result"
    },
    {
     "data": {
      "image/png": "[encoded data removed]",
      "text/plain": [
       "<Figure size 432x288 with 1 Axes>"
      ]
     },
     "metadata": {
      "needs_background": "light"
     },
     "output_type": "display_data"
    }
   ],
   "source": [
    "%matplotlib inline\n",
    "\n",
    "train_df.hist(bins=100, log=True)"
   ]
  },
  {
   "cell_type": "code",
   "execution_count": 5,
   "metadata": {
    "ExecuteTime": {
     "end_time": "2019-10-26T21:08:12.356877Z",
     "start_time": "2019-10-26T21:08:12.344573Z"
    },
    "hidden": true
   },
   "outputs": [
    {
     "name": "stdout",
     "output_type": "stream",
     "text": [
      "Decoded Input: @ Override public Long del ( byte [ ] ... keys )<EOS>\n",
      "Decoded Target: del<EOS>\n"
     ]
    }
   ],
   "source": [
    "# Use the encoders to decode the tensors to the actual input text.\n",
    "input_encoder = t2t_problem.get_feature_encoders(\n",
    "    data_dir=DATA_DIR)[\"inputs\"]\n",
    "target_encoder = t2t_problem.get_feature_encoders(\n",
    "    data_dir=DATA_DIR)[\"targets\"]\n",
    "\n",
    "input_decoded = input_encoder.decode(input_tensor.numpy())\n",
    "target_decoded = target_encoder.decode(target_tensor.numpy())\n",
    "\n",
    "print(\"Decoded Input: \" + input_decoded)\n",
    "print(\"Decoded Target: \" + target_decoded)"
   ]
  },
  {
   "cell_type": "code",
   "execution_count": 15,
   "metadata": {
    "ExecuteTime": {
     "end_time": "2019-10-26T21:11:42.626001Z",
     "start_time": "2019-10-26T21:11:42.614016Z"
    },
    "hidden": true
   },
   "outputs": [
    {
     "data": {
      "text/plain": [
       "[1525, 2, 19, 560]"
      ]
     },
     "execution_count": 15,
     "metadata": {},
     "output_type": "execute_result"
    }
   ],
   "source": [
    "input_encoder.encode(\"System . out\")"
   ]
  },
  {
   "cell_type": "code",
   "execution_count": 14,
   "metadata": {
    "ExecuteTime": {
     "end_time": "2019-10-26T21:11:36.513298Z",
     "start_time": "2019-10-26T21:11:36.499145Z"
    },
    "hidden": true
   },
   "outputs": [
    {
     "data": {
      "text/plain": [
       "'System.out'"
      ]
     },
     "execution_count": 14,
     "metadata": {},
     "output_type": "execute_result"
    }
   ],
   "source": [
    "import numpy as np\n",
    "input_encoder.decode(np.array([1525, 2, 296, 560]))"
   ]
  },
  {
   "cell_type": "markdown",
   "metadata": {},
   "source": [
    "## Train the model"
   ]
  },
  {
   "cell_type": "code",
   "execution_count": null,
   "metadata": {
    "ExecuteTime": {
     "end_time": "2019-10-25T21:34:27.423133Z",
     "start_time": "2019-10-25T20:53:35.729Z"
    }
   },
   "outputs": [],
   "source": [
    "MODEL = \"transformer\"\n",
    "HPARAMS = \"transformer_small\"\n",
    "\n",
    "TRAIN_DIR=\"/devfest/repos/name-suggestion/model\"\n",
    "\n",
    "hparams = trainer_lib.create_hparams(HPARAMS)\n",
    "\n",
    "# TODO: \n",
    "# - train on colab GPU (transformer .max_length=256, transformer_base_single_gpu batch_size=1024)\n",
    "# - train on colab TPU (transformer .max_length=64,  transformer_tpu             batch_size=2048)\n",
    "#   and compare results to '_packed' version\n",
    "    "
   ]
  },
  {
   "cell_type": "code",
   "execution_count": null,
   "metadata": {},
   "outputs": [],
   "source": [
    "save_checkpoints_steps=100\n",
    "train_steps=1000\n",
    "eval_steps=1000\n",
    "\n",
    "RUN_CONFIG = create_run_config(\n",
    "      model_dir=TRAIN_DIR,\n",
    "      model_name=MODEL,\n",
    "      save_checkpoints_steps=save_checkpoints_steps\n",
    ")\n"
   ]
  },
  {
   "cell_type": "code",
   "execution_count": null,
   "metadata": {
    "ExecuteTime": {
     "end_time": "2019-10-25T21:34:27.427287Z",
     "start_time": "2019-10-25T20:53:35.733Z"
    }
   },
   "outputs": [],
   "source": [
    "tensorflow_exp_fn = create_experiment(\n",
    "        run_config=RUN_CONFIG,\n",
    "        hparams=hparams,\n",
    "        model_name=MODEL,\n",
    "        problem_name=PROBLEM,\n",
    "        data_dir=DATA_DIR, \n",
    "        train_steps=train_steps, \n",
    "        eval_steps=eval_steps, \n",
    "        #use_xla=True # For acceleration\n",
    "    ) \n",
    "\n",
    "tensorflow_exp_fn.train_and_evaluate()\n",
    "\n",
    "\n",
    "# restore from checkpoint\n",
    "#model = registry.model(model_name)(hparams, Modes.EVAL)\n",
    "\n"
   ]
  },
  {
   "cell_type": "markdown",
   "metadata": {
    "ExecuteTime": {
     "end_time": "2019-10-25T21:34:27.429940Z",
     "start_time": "2019-10-25T20:53:35.735Z"
    }
   },
   "source": [
    "## Visualize training"
   ]
  },
  {
   "cell_type": "code",
   "execution_count": null,
   "metadata": {},
   "outputs": [],
   "source": [
    "# TODO: tensorboard (+tf2.0 on collab)"
   ]
  },
  {
   "cell_type": "markdown",
   "metadata": {},
   "source": [
    "## Inference using trained model"
   ]
  },
  {
   "cell_type": "code",
   "execution_count": null,
   "metadata": {},
   "outputs": [],
   "source": [
    "# TODO: infer + beam search"
   ]
  },
  {
   "cell_type": "markdown",
   "metadata": {},
   "source": [
    "## Visualize the attention"
   ]
  },
  {
   "cell_type": "code",
   "execution_count": null,
   "metadata": {},
   "outputs": [],
   "source": [
    "# TODO: HTML snippet"
   ]
  },
  {
   "cell_type": "markdown",
   "metadata": {},
   "source": [
    "## Interactive predictions (local)"
   ]
  },
  {
   "cell_type": "code",
   "execution_count": null,
   "metadata": {},
   "outputs": [],
   "source": [
    "# TODO: build and setup the inspector"
   ]
  },
  {
   "cell_type": "markdown",
   "metadata": {},
   "source": [
    "## Compare the results"
   ]
  },
  {
   "cell_type": "code",
   "execution_count": 77,
   "metadata": {
    "ExecuteTime": {
     "end_time": "2019-10-26T18:40:44.628689Z",
     "start_time": "2019-10-26T18:40:44.620552Z"
    }
   },
   "outputs": [],
   "source": [
    "# TODO:\n",
    "# - list all papers that use this task (Miltos, code2vec/seq, embeddings eval)\n",
    "# - use same metric to evaluate (BLUE?)\n",
    "# - identify current SotA"
   ]
  },
  {
   "cell_type": "markdown",
   "metadata": {
    "ExecuteTime": {
     "end_time": "2019-10-26T18:37:28.851202Z",
     "start_time": "2019-10-26T18:37:28.845840Z"
    }
   },
   "source": [
    "## Change task to Search (advanced)"
   ]
  },
  {
   "cell_type": "code",
   "execution_count": null,
   "metadata": {},
   "outputs": [],
   "source": [
    "# TODO: using the same dataset, override problem, prepare the data (using same vocab)"
   ]
  }
 ],
 "metadata": {
  "kernelspec": {
   "display_name": "Python 3",
   "language": "python",
   "name": "python3"
  },
  "language_info": {
   "codemirror_mode": {
    "name": "ipython",
    "version": 3
   },
   "file_extension": ".py",
   "mimetype": "text/x-python",
   "name": "python",
   "nbconvert_exporter": "python",
   "pygments_lexer": "ipython3",
   "version": "3.6.8"
  }
 },
 "nbformat": 4,
 "nbformat_minor": 2
}
